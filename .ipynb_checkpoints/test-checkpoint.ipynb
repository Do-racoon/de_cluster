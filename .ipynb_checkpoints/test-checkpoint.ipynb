{
 "cells": [
  {
   "cell_type": "code",
   "execution_count": 1,
   "id": "e4ea72aa-969e-42b8-9e64-d705bb6534bd",
   "metadata": {},
   "outputs": [
    {
     "name": "stdout",
     "output_type": "stream",
     "text": [
      "Collecting happybase\n",
      "  Downloading happybase-1.2.0.tar.gz (40 kB)\n",
      "\u001b[2K     \u001b[38;2;114;156;31m━━━━━━━━━━━━━━━━━━━━━━━━━━━━━━━━━━━━━━━━\u001b[0m \u001b[32m40.5/40.5 kB\u001b[0m \u001b[31m2.9 MB/s\u001b[0m eta \u001b[36m0:00:00\u001b[0m\n",
      "\u001b[?25h  Preparing metadata (setup.py) ... \u001b[?25ldone\n",
      "\u001b[?25hRequirement already satisfied: six in /opt/homebrew/Caskroom/miniconda/base/envs/yeardream/lib/python3.9/site-packages (from happybase) (1.16.0)\n",
      "Collecting thriftpy2>=0.4\n",
      "  Downloading thriftpy2-0.4.16.tar.gz (643 kB)\n",
      "\u001b[2K     \u001b[38;2;114;156;31m━━━━━━━━━━━━━━━━━━━━━━━━━━━━━━━━━━━━━━\u001b[0m \u001b[32m643.4/643.4 kB\u001b[0m \u001b[31m33.4 MB/s\u001b[0m eta \u001b[36m0:00:00\u001b[0m\n",
      "\u001b[?25h  Preparing metadata (setup.py) ... \u001b[?25ldone\n",
      "\u001b[?25hRequirement already satisfied: ply<4.0,>=3.4 in /opt/homebrew/Caskroom/miniconda/base/envs/yeardream/lib/python3.9/site-packages (from thriftpy2>=0.4->happybase) (3.11)\n",
      "Building wheels for collected packages: happybase, thriftpy2\n",
      "  Building wheel for happybase (setup.py) ... \u001b[?25ldone\n",
      "\u001b[?25h  Created wheel for happybase: filename=happybase-1.2.0-py2.py3-none-any.whl size=26604 sha256=9d8155e82753df7cf6fd6e354bed90202b1bc706cd65e2a89a49f7422c134d1c\n",
      "  Stored in directory: /Users/a22/Library/Caches/pip/wheels/9e/00/b2/3a44a68da0a23b4f274c24f3bda10e84283d63fb8b8dfb3709\n",
      "  Building wheel for thriftpy2 (setup.py) ... \u001b[?25ldone\n",
      "\u001b[?25h  Created wheel for thriftpy2: filename=thriftpy2-0.4.16-cp39-cp39-macosx_11_0_arm64.whl size=478833 sha256=bcef43cb0e1d37d7155a1bd3377ec4b47bbb257bdcd814269b95e561dea54c36\n",
      "  Stored in directory: /Users/a22/Library/Caches/pip/wheels/88/a4/d5/907737b4c175aec82087b815fa93a8afea5c6c5a3e7bb748b9\n",
      "Successfully built happybase thriftpy2\n",
      "Installing collected packages: thriftpy2, happybase\n",
      "Successfully installed happybase-1.2.0 thriftpy2-0.4.16\n"
     ]
    }
   ],
   "source": [
    "!pip install happybase"
   ]
  },
  {
   "cell_type": "code",
   "execution_count": 6,
   "id": "17545030-0ee1-4c6d-b1f1-7e04aa7d1218",
   "metadata": {},
   "outputs": [],
   "source": [
    "import happybase\n",
    "connection = happybase.Connection('localhost', 16010)\n",
    "connection.open()"
   ]
  },
  {
   "cell_type": "code",
   "execution_count": null,
   "id": "216b72ef-2ebb-4244-8f14-0dd087a101ac",
   "metadata": {},
   "outputs": [],
   "source": [
    "connection.create_table('A_imgs', { 'imgs': dict() } )\n",
    "connection.create_table('B_imgs', { 'imgs': dict() } )\n",
    "connection.tables()"
   ]
  }
 ],
 "metadata": {
  "kernelspec": {
   "display_name": "Python 3 (ipykernel)",
   "language": "python",
   "name": "python3"
  },
  "language_info": {
   "codemirror_mode": {
    "name": "ipython",
    "version": 3
   },
   "file_extension": ".py",
   "mimetype": "text/x-python",
   "name": "python",
   "nbconvert_exporter": "python",
   "pygments_lexer": "ipython3",
   "version": "3.9.16"
  }
 },
 "nbformat": 4,
 "nbformat_minor": 5
}
