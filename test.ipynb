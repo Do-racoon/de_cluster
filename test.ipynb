{
 "cells": [
  {
   "cell_type": "code",
   "execution_count": 1,
   "id": "e4ea72aa-969e-42b8-9e64-d705bb6534bd",
   "metadata": {},
   "outputs": [
    {
     "name": "stdout",
     "output_type": "stream",
     "text": [
      "Collecting happybase\n",
      "  Downloading happybase-1.2.0.tar.gz (40 kB)\n",
      "\u001b[2K     \u001b[38;2;114;156;31m━━━━━━━━━━━━━━━━━━━━━━━━━━━━━━━━━━━━━━━━\u001b[0m \u001b[32m40.5/40.5 kB\u001b[0m \u001b[31m2.9 MB/s\u001b[0m eta \u001b[36m0:00:00\u001b[0m\n",
      "\u001b[?25h  Preparing metadata (setup.py) ... \u001b[?25ldone\n",
      "\u001b[?25hRequirement already satisfied: six in /opt/homebrew/Caskroom/miniconda/base/envs/yeardream/lib/python3.9/site-packages (from happybase) (1.16.0)\n",
      "Collecting thriftpy2>=0.4\n",
      "  Downloading thriftpy2-0.4.16.tar.gz (643 kB)\n",
      "\u001b[2K     \u001b[38;2;114;156;31m━━━━━━━━━━━━━━━━━━━━━━━━━━━━━━━━━━━━━━\u001b[0m \u001b[32m643.4/643.4 kB\u001b[0m \u001b[31m33.4 MB/s\u001b[0m eta \u001b[36m0:00:00\u001b[0m\n",
      "\u001b[?25h  Preparing metadata (setup.py) ... \u001b[?25ldone\n",
      "\u001b[?25hRequirement already satisfied: ply<4.0,>=3.4 in /opt/homebrew/Caskroom/miniconda/base/envs/yeardream/lib/python3.9/site-packages (from thriftpy2>=0.4->happybase) (3.11)\n",
      "Building wheels for collected packages: happybase, thriftpy2\n",
      "  Building wheel for happybase (setup.py) ... \u001b[?25ldone\n",
      "\u001b[?25h  Created wheel for happybase: filename=happybase-1.2.0-py2.py3-none-any.whl size=26604 sha256=9d8155e82753df7cf6fd6e354bed90202b1bc706cd65e2a89a49f7422c134d1c\n",
      "  Stored in directory: /Users/a22/Library/Caches/pip/wheels/9e/00/b2/3a44a68da0a23b4f274c24f3bda10e84283d63fb8b8dfb3709\n",
      "  Building wheel for thriftpy2 (setup.py) ... \u001b[?25ldone\n",
      "\u001b[?25h  Created wheel for thriftpy2: filename=thriftpy2-0.4.16-cp39-cp39-macosx_11_0_arm64.whl size=478833 sha256=bcef43cb0e1d37d7155a1bd3377ec4b47bbb257bdcd814269b95e561dea54c36\n",
      "  Stored in directory: /Users/a22/Library/Caches/pip/wheels/88/a4/d5/907737b4c175aec82087b815fa93a8afea5c6c5a3e7bb748b9\n",
      "Successfully built happybase thriftpy2\n",
      "Installing collected packages: thriftpy2, happybase\n",
      "Successfully installed happybase-1.2.0 thriftpy2-0.4.16\n"
     ]
    }
   ],
   "source": [
    "!pip install happybase"
   ]
  },
  {
   "cell_type": "code",
   "execution_count": 86,
   "id": "17545030-0ee1-4c6d-b1f1-7e04aa7d1218",
   "metadata": {},
   "outputs": [],
   "source": [
    "import happybase"
   ]
  },
  {
   "cell_type": "code",
   "execution_count": 87,
   "id": "e04c0801-99a3-47f2-8679-98f9eae3a216",
   "metadata": {},
   "outputs": [],
   "source": [
    "connection = happybase.Connection('localhost', port=9090)\n",
    "connection.open()"
   ]
  },
  {
   "cell_type": "code",
   "execution_count": 88,
   "id": "216b72ef-2ebb-4244-8f14-0dd087a101ac",
   "metadata": {},
   "outputs": [
    {
     "data": {
      "text/plain": [
       "[b'my_table']"
      ]
     },
     "execution_count": 88,
     "metadata": {},
     "output_type": "execute_result"
    }
   ],
   "source": [
    "connection.tables()"
   ]
  },
  {
   "cell_type": "code",
   "execution_count": 17,
   "id": "f9116171-ba1e-4b8e-9049-2adf4fbb42cf",
   "metadata": {},
   "outputs": [],
   "source": [
    "# 'my_table'이라는 테이블을 생성\n",
    "connection.create_table(\n",
    "    'my_table',\n",
    "    {\n",
    "        'cf1': dict(max_versions=10),\n",
    "        'cf2': dict(max_versions=1, block_cache_enabled=False),\n",
    "        'cf3': dict(),  # use defaults\n",
    "    }\n",
    ")\n"
   ]
  },
  {
   "cell_type": "code",
   "execution_count": 65,
   "id": "411d160d-a622-45de-9270-ce12f1341432",
   "metadata": {},
   "outputs": [],
   "source": [
    "# 'my_table'에 대한 핸들을 얻음\n",
    "table = connection.table('my_table')"
   ]
  },
  {
   "cell_type": "code",
   "execution_count": 23,
   "id": "45882519-a2d8-4781-aa9c-b43036630b6f",
   "metadata": {},
   "outputs": [],
   "source": [
    "# 테이블에 데이터를 삽입\n",
    "table.put('row-key1', {'cf1:qual1': 'value1', 'cf2:qual2': 'value2'})"
   ]
  },
  {
   "cell_type": "code",
   "execution_count": 26,
   "id": "2f8b31de-5b45-4f88-bfe8-7571bbd0a14b",
   "metadata": {},
   "outputs": [],
   "source": [
    "# 테이블에서 데이터를 조회\n",
    "row = table.row('row-key1')"
   ]
  },
  {
   "cell_type": "code",
   "execution_count": 55,
   "id": "7d44a9d0-1d8f-470f-9181-c7254686b7e7",
   "metadata": {},
   "outputs": [
    {
     "name": "stdout",
     "output_type": "stream",
     "text": [
      "b'value1'\n"
     ]
    }
   ],
   "source": [
    "print(row[b'cf1:qual1'])  # 출력: 'value1'"
   ]
  },
  {
   "cell_type": "code",
   "execution_count": 66,
   "id": "dc949c4c-7227-45bd-909a-e13a4c3f53b5",
   "metadata": {},
   "outputs": [
    {
     "name": "stdout",
     "output_type": "stream",
     "text": [
      "b'row-key1' {b'cf1:qual1': b'value1', b'cf2:qual2': b'value2'}\n"
     ]
    }
   ],
   "source": [
    "# 'cf1' 컬럼 패밀리의 모든 데이터를 스캔\n",
    "for key, data in table.scan('cf1'):\n",
    "    print(key, data)  # key와 data를 출력"
   ]
  },
  {
   "cell_type": "code",
   "execution_count": null,
   "id": "6466410e-9f5d-43d7-86eb-d27e0863d9ce",
   "metadata": {},
   "outputs": [],
   "source": []
  },
  {
   "cell_type": "code",
   "execution_count": 34,
   "id": "69f847a3-832f-49e7-80ef-41f794470be1",
   "metadata": {},
   "outputs": [],
   "source": [
    "test=b'asd4'"
   ]
  },
  {
   "cell_type": "code",
   "execution_count": 36,
   "id": "84394b5a-871e-4668-9df0-1753d5078e80",
   "metadata": {},
   "outputs": [
    {
     "name": "stdout",
     "output_type": "stream",
     "text": [
      "97 115 100 52\n"
     ]
    }
   ],
   "source": [
    "print(*test)"
   ]
  },
  {
   "cell_type": "code",
   "execution_count": null,
   "id": "579c6ff1-f116-4ff3-b042-9da6446e3e68",
   "metadata": {},
   "outputs": [],
   "source": []
  }
 ],
 "metadata": {
  "kernelspec": {
   "display_name": "Python 3 (ipykernel)",
   "language": "python",
   "name": "python3"
  },
  "language_info": {
   "codemirror_mode": {
    "name": "ipython",
    "version": 3
   },
   "file_extension": ".py",
   "mimetype": "text/x-python",
   "name": "python",
   "nbconvert_exporter": "python",
   "pygments_lexer": "ipython3",
   "version": "3.9.16"
  }
 },
 "nbformat": 4,
 "nbformat_minor": 5
}
