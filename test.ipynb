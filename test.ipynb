{
 "cells": [
  {
   "cell_type": "markdown",
   "id": "4262dd2c-1a44-4b18-a91c-7f96550d774c",
   "metadata": {},
   "source": [
    "## Hadoop HDFS"
   ]
  },
  {
   "cell_type": "code",
<<<<<<< HEAD
   "execution_count": 14,
   "id": "e4ea72aa-969e-42b8-9e64-d705bb6534bd",
=======
   "execution_count": 1,
   "id": "778cccf2-56a5-434f-84b8-22d0ba8a23f2",
   "metadata": {},
   "outputs": [],
   "source": [
    "import sys\n",
    "import json\n",
    "import requests\n",
    "\n",
    "\n",
    "class HDFSClient:\n",
    "    \"\"\"\n",
    "        official docs:\n",
    "            https://hadoop.apache.org/docs/r3.3.5/hadoop-project-dist/hadoop-hdfs/WebHDFS.html\n",
    "        python library:\n",
    "            https://github.com/mtth/hdfs\n",
    "            \n",
    "        이 프로젝트에서는 namenode 와 datanode 가 Docker 컨테이너 이름으로 서로 통신을 한다.\n",
    "        하지만 호스트에서는 컨테이너 이름으로 접근할 수 없어 자동으로 리다이렉트를 해주는 hdfs 라이브러리를 사용할 수 없다.\n",
    "        따라서 namenode로 부터 받아온 datanode 주소를 직접 변경 후에 datanode에 요청을 보내기 위해 Client Class 를 작성하였다.\n",
    "    \"\"\"\n",
    "    def __init__(self, namenode='http://localhost:9870', user='root'):\n",
    "        self.namenode = namenode\n",
    "        self.ports = {'datanode1': '9862', 'datanode2': '9863', 'datanode3': '9864'}\n",
    "        self.session = requests.Session()\n",
    "        self.session.params['user.name'] = user\n",
    "    \n",
    "    def ls(self, hdfs_path):\n",
    "        hdfs_path = hdfs_path.lstrip('/')\n",
    "        \n",
    "        url = f'{self.namenode}/webhdfs/v1/{hdfs_path}?op=LISTSTATUS'\n",
    "        res = self.session.get(url)\n",
    "        return [status['pathSuffix'] for status in res.json()['FileStatuses']['FileStatus']]\n",
    "    \n",
    "    def mkdir(self, hdfs_path):\n",
    "        hdfs_path = hdfs_path.lstrip('/')\n",
    "        \n",
    "        url = f'{self.namenode}/webhdfs/v1/{hdfs_path}?op=MKDIRS'\n",
    "        res = self.session.put(url)\n",
    "        return res.json()\n",
    "    \n",
    "    def write(self, hdfs_path, data, overwrite=False, buffersize=128*1024, append=False):\n",
    "        hdfs_path = hdfs_path.lstrip('/')\n",
    "        \n",
    "        # namenode에게 데이터를 쓸 datanode 요청\n",
    "        url = f\"{self.namenode}/webhdfs/v1/{hdfs_path}?\"\n",
    "        if append:\n",
    "            if overwrite:\n",
    "                raise ValueError('Cannot both overwrite and append.')\n",
    "            url += \"op=APPEND\"\n",
    "        else:\n",
    "            url += \"op=CREATE\"\n",
    "        url += f\"&noredirect=true&overwrite={str(overwrite).lower()}&buffersize={buffersize}\"\n",
    "        res = self.session.post(url) if append else self.session.put(url)\n",
    "\n",
    "        # datanode 주소 변환\n",
    "        location = res.json()['Location']\n",
    "        location = self.transform(location)\n",
    "        \n",
    "        # datanode에게 데이터 쓰기 요청\n",
    "        res = self.session.post(location, data=data) if append else self.session.put(location, data=data)\n",
    "        return res\n",
    "    \n",
    "    def upload(self, hdfs_path, local_path, buffersize=128*1024):\n",
    "        hdfs_path = hdfs_path.lstrip('/')\n",
    "        \n",
    "        try:\n",
    "            with open(local_path, 'rb') as reader:\n",
    "                data = reader.read()\n",
    "                self.write(hdfs_path, data, buffersize=buffersize)\n",
    "            return True\n",
    "        except:\n",
    "            self.delete(hdfs_path)\n",
    "            return False\n",
    "    \n",
    "    def read(self, hdfs_path, buffersize=128*1024):\n",
    "        hdfs_path = hdfs_path.lstrip('/')\n",
    "        \n",
    "        # namenode에게 데이터를 읽울 datanode 요청\n",
    "        url = f\"{self.namenode}/webhdfs/v1/{hdfs_path}?op=OPEN&noredirect=true&buffersize={buffersize}\"\n",
    "        res = self.session.get(url)\n",
    "        \n",
    "        # datanode 주소 변환\n",
    "        location = res.json()['Location']\n",
    "        location = self.transform(location)\n",
    "        \n",
    "        # datanode에게 데이터 읽기 요청\n",
    "        res = self.session.get(location)\n",
    "        return res\n",
    "    \n",
    "    def download(self, hdfs_path, local_path, buffersize=128*1024):\n",
    "        hdfs_path = hdfs_path.lstrip('/')\n",
    "        \n",
    "        try:\n",
    "            with open(local_path, 'wb') as writer:\n",
    "                with self.read(hdfs_path, buffersize=buffersize) as reader:\n",
    "                    for chunk in reader:\n",
    "                        writer.write(chunk)\n",
    "            return True\n",
    "        except:\n",
    "            return False\n",
    "    \n",
    "    def delete(self, hdfs_path, isdir=False):\n",
    "        hdfs_path = hdfs_path.lstrip('/')\n",
    "        \n",
    "        url = f'{self.namenode}/webhdfs/v1/{hdfs_path}?op=DELETE&recursive={str(isdir).lower()}'\n",
    "        res = self.session.delete(url)\n",
    "        return res.json()\n",
    "    \n",
    "    def transform(self, location):\n",
    "        location = location.split(\"/\")\n",
    "        datanode, _ = location[2].split(\":\")\n",
    "        location[2] = f'localhost:{self.ports[datanode]}'\n",
    "        return '/'.join(location)"
   ]
  },
  {
   "cell_type": "code",
   "execution_count": 2,
   "id": "6cf79acc-86f4-49c6-84c9-b04696225a57",
   "metadata": {},
   "outputs": [],
   "source": [
    "hdfs = HDFSClient()"
   ]
  },
  {
   "cell_type": "markdown",
   "id": "9036bdd2-7bb1-45f5-be35-ed42bc7781f6",
   "metadata": {},
   "source": [
    "### make directory"
   ]
  },
  {
   "cell_type": "code",
   "execution_count": 3,
   "id": "41cdf6e0-0fb3-4a1d-b991-17d05b1516e6",
   "metadata": {},
   "outputs": [
    {
     "data": {
      "text/plain": [
       "{'boolean': True}"
      ]
     },
     "execution_count": 3,
     "metadata": {},
     "output_type": "execute_result"
    }
   ],
   "source": [
    "hdfs.mkdir('/test')"
   ]
  },
  {
   "cell_type": "markdown",
   "id": "2c8fee6f-c471-401d-be1c-3dbe170b6f8f",
   "metadata": {},
   "source": [
    "### list directory"
   ]
  },
  {
   "cell_type": "code",
   "execution_count": 4,
   "id": "5f498dd9-61c9-4a35-af31-6a261fce7f6c",
   "metadata": {},
   "outputs": [
    {
     "data": {
      "text/plain": [
       "['hbase', 'models', 'test']"
      ]
     },
     "execution_count": 4,
     "metadata": {},
     "output_type": "execute_result"
    }
   ],
   "source": [
    "hdfs.ls('/')"
   ]
  },
  {
   "cell_type": "markdown",
   "id": "0c8b9dfb-1f4b-4336-9013-ef0e8fde955f",
   "metadata": {},
   "source": [
    "### write data"
   ]
  },
  {
   "cell_type": "code",
   "execution_count": 5,
   "id": "8360a2b0-1174-4293-b8ae-745fa3917e6e",
   "metadata": {},
   "outputs": [],
   "source": [
    "res = hdfs.write('/test/test.txt', 'test text file!', overwrite=True, append=False)"
   ]
  },
  {
   "cell_type": "markdown",
   "id": "ca9db805-154e-4830-8150-8a0582995215",
   "metadata": {},
   "source": [
    "### read data"
   ]
  },
  {
   "cell_type": "code",
   "execution_count": 6,
   "id": "5e437f8e-16fa-40e1-976a-e709ca6ce872",
   "metadata": {},
   "outputs": [
    {
     "data": {
      "text/plain": [
       "b'test text file!'"
      ]
     },
     "execution_count": 6,
     "metadata": {},
     "output_type": "execute_result"
    }
   ],
   "source": [
    "res = hdfs.read('/test/test.txt')\n",
    "res.content"
   ]
  },
  {
   "cell_type": "markdown",
   "id": "508d5673-2515-4186-bd54-f6b442072352",
   "metadata": {},
   "source": [
    "### make directory"
   ]
  },
  {
   "cell_type": "code",
   "execution_count": 7,
   "id": "10369157-91bf-40cb-b0c7-1f465ecf7a62",
   "metadata": {},
   "outputs": [],
   "source": [
    "import pickle\n",
    "\n",
    "data = {\n",
    "    'a': [1, 2.0, 3, 4+6j],\n",
    "    'b': ('string', u'Unicode string'),\n",
    "    'c': None\n",
    "}\n",
    "\n",
    "with open('data.pkl', 'wb') as f:\n",
    "    pickle.dump(data, f)"
   ]
  },
  {
   "cell_type": "code",
   "execution_count": 8,
   "id": "c9db8ffd-6da2-43fa-804a-856c26d00f87",
   "metadata": {},
   "outputs": [
    {
     "data": {
      "text/plain": [
       "True"
      ]
     },
     "execution_count": 8,
     "metadata": {},
     "output_type": "execute_result"
    }
   ],
   "source": [
    "hdfs.upload('/test/data.pkl', 'data.pkl')"
   ]
  },
  {
   "cell_type": "code",
   "execution_count": 9,
   "id": "9200397a-a74f-42be-9a6c-45cc5c56fb7c",
   "metadata": {},
   "outputs": [
    {
     "data": {
      "text/plain": [
       "{'a': [1, 2.0, 3, (4+6j)], 'b': ('string', 'Unicode string'), 'c': None}"
      ]
     },
     "execution_count": 9,
     "metadata": {},
     "output_type": "execute_result"
    }
   ],
   "source": [
    "res = hdfs.read('/test/data.pkl')\n",
    "pickle.loads(res.content)"
   ]
  },
  {
   "cell_type": "markdown",
   "id": "7d557158-a3ec-4979-8ce7-12e8fefe5d23",
   "metadata": {},
   "source": [
    "### make directory"
   ]
  },
  {
   "cell_type": "code",
   "execution_count": 10,
   "id": "bedc9919-3a84-4642-8000-eb9d4f0dc7f3",
   "metadata": {},
   "outputs": [
    {
     "data": {
      "text/plain": [
       "True"
      ]
     },
     "execution_count": 10,
     "metadata": {},
     "output_type": "execute_result"
    }
   ],
   "source": [
    "hdfs.download('/test/data.pkl', 'downloaded.pkl')"
   ]
  },
  {
   "cell_type": "code",
   "execution_count": 11,
   "id": "3a6664c1-11c7-46ef-b34f-6ede5423613c",
>>>>>>> a640a7f85ea0537bdfa7b75604c9da8239a20abc
   "metadata": {},
   "outputs": [
    {
     "name": "stdout",
     "output_type": "stream",
     "text": [
<<<<<<< HEAD
      "Requirement already satisfied: happybase in /opt/homebrew/Caskroom/miniconda/base/envs/yeardream/lib/python3.9/site-packages (1.2.0)\n",
      "Requirement already satisfied: six in /opt/homebrew/Caskroom/miniconda/base/envs/yeardream/lib/python3.9/site-packages (from happybase) (1.16.0)\n",
      "Requirement already satisfied: thriftpy2>=0.4 in /opt/homebrew/Caskroom/miniconda/base/envs/yeardream/lib/python3.9/site-packages (from happybase) (0.4.16)\n",
      "Requirement already satisfied: ply<4.0,>=3.4 in /opt/homebrew/Caskroom/miniconda/base/envs/yeardream/lib/python3.9/site-packages (from thriftpy2>=0.4->happybase) (3.11)\n"
=======
      "{'a': [1, 2.0, 3, (4+6j)], 'b': ('string', 'Unicode string'), 'c': None}\n"
>>>>>>> a640a7f85ea0537bdfa7b75604c9da8239a20abc
     ]
    }
   ],
   "source": [
    "with open('downloaded.pkl', 'rb') as f:\n",
    "    print(pickle.load(f))"
   ]
  },
  {
   "cell_type": "markdown",
   "id": "05d07d59-f6d7-4de9-b077-730ec83d1470",
   "metadata": {},
   "source": [
    "### delete data"
   ]
  },
  {
   "cell_type": "code",
   "execution_count": 12,
   "id": "a1a36f96-2d12-49ce-a2ac-d9af7fbbf29d",
   "metadata": {},
   "outputs": [
    {
     "data": {
      "text/plain": [
       "['data.pkl', 'test.txt']"
      ]
     },
     "execution_count": 12,
     "metadata": {},
     "output_type": "execute_result"
    }
   ],
   "source": [
    "hdfs.ls('/test')"
   ]
  },
  {
   "cell_type": "code",
   "execution_count": 13,
   "id": "595a6a34-0af0-4341-9393-137e2302834d",
   "metadata": {},
   "outputs": [
    {
     "data": {
      "text/plain": [
       "{'boolean': True}"
      ]
     },
     "execution_count": 13,
     "metadata": {},
     "output_type": "execute_result"
    }
   ],
   "source": [
    "hdfs.delete('/test/data.pkl')"
   ]
  },
  {
   "cell_type": "code",
   "execution_count": 14,
   "id": "749c707b-e981-4711-947f-1b2e7653b4c1",
   "metadata": {},
   "outputs": [
    {
     "data": {
      "text/plain": [
       "['test.txt']"
      ]
     },
     "execution_count": 14,
     "metadata": {},
     "output_type": "execute_result"
    }
   ],
   "source": [
    "hdfs.ls('/test')"
   ]
  },
  {
   "cell_type": "code",
   "execution_count": 15,
   "id": "593474a8-4c9d-4842-a0ff-09d9e9b0e399",
   "metadata": {},
   "outputs": [
    {
     "data": {
      "text/plain": [
       "{'boolean': True}"
      ]
     },
     "execution_count": 15,
     "metadata": {},
     "output_type": "execute_result"
    }
   ],
   "source": [
    "hdfs.delete('/test', isdir=True)"
   ]
  },
  {
   "cell_type": "code",
   "execution_count": 16,
   "id": "e6f016ba-5d13-41b9-ba92-018c6d874d3e",
   "metadata": {},
   "outputs": [
    {
     "data": {
      "text/plain": [
       "['hbase', 'models']"
      ]
     },
     "execution_count": 16,
     "metadata": {},
     "output_type": "execute_result"
    }
   ],
   "source": [
    "hdfs.ls('/')"
   ]
  },
  {
   "cell_type": "code",
   "execution_count": null,
   "id": "d21bf604-6f3b-49d6-b2a8-8d41fcbc582c",
   "metadata": {},
   "outputs": [],
   "source": []
  },
  {
   "cell_type": "code",
   "execution_count": null,
   "id": "e3ff80f6-dd84-43b5-a3f5-5f8942129171",
   "metadata": {},
   "outputs": [],
   "source": []
  },
  {
   "cell_type": "code",
   "execution_count": null,
   "id": "af662e7e-dbea-4bb7-a468-c15f7299425d",
   "metadata": {},
   "outputs": [],
   "source": []
  },
  {
   "cell_type": "markdown",
   "id": "3667cef6-2143-4a0a-9591-b24aa5af4384",
   "metadata": {},
   "source": [
    "## HBase"
   ]
  },
  {
   "cell_type": "code",
   "execution_count": null,
   "id": "bd218dd9-c7a6-44ca-bcf3-9818cbdfe1b1",
   "metadata": {},
   "outputs": [],
   "source": [
    "!pip install happybase"
   ]
  },
  {
   "cell_type": "code",
<<<<<<< HEAD
   "execution_count": 98,
=======
   "execution_count": 50,
>>>>>>> a640a7f85ea0537bdfa7b75604c9da8239a20abc
   "id": "17545030-0ee1-4c6d-b1f1-7e04aa7d1218",
   "metadata": {},
   "outputs": [],
   "source": [
    "import happybase\n",
<<<<<<< HEAD
    "import os\n",
    "import csv\n",
    "import pandas as pd"
   ]
  },
  {
   "cell_type": "code",
   "execution_count": 99,
   "id": "e04c0801-99a3-47f2-8679-98f9eae3a216",
   "metadata": {},
   "outputs": [
    {
     "ename": "TTransportException",
     "evalue": "TTransportException(type=1, message=\"Could not connect to ('localhost', 9090)\")",
     "output_type": "error",
     "traceback": [
      "\u001b[0;31m---------------------------------------------------------------------------\u001b[0m",
      "\u001b[0;31mConnectionRefusedError\u001b[0m                    Traceback (most recent call last)",
      "File \u001b[0;32m/opt/homebrew/Caskroom/miniconda/base/envs/yeardream/lib/python3.9/site-packages/thriftpy2/transport/socket.py:98\u001b[0m, in \u001b[0;36mTSocket.open\u001b[0;34m(self)\u001b[0m\n\u001b[1;32m     96\u001b[0m     \u001b[39mself\u001b[39m\u001b[39m.\u001b[39msock\u001b[39m.\u001b[39msettimeout(\u001b[39mself\u001b[39m\u001b[39m.\u001b[39mconnect_timeout)\n\u001b[0;32m---> 98\u001b[0m \u001b[39mself\u001b[39;49m\u001b[39m.\u001b[39;49msock\u001b[39m.\u001b[39;49mconnect(addr)\n\u001b[1;32m    100\u001b[0m \u001b[39mif\u001b[39;00m \u001b[39mself\u001b[39m\u001b[39m.\u001b[39msocket_timeout:\n",
      "\u001b[0;31mConnectionRefusedError\u001b[0m: [Errno 61] Connection refused",
      "\nDuring handling of the above exception, another exception occurred:\n",
      "\u001b[0;31mTTransportException\u001b[0m                       Traceback (most recent call last)",
      "Cell \u001b[0;32mIn[99], line 1\u001b[0m\n\u001b[0;32m----> 1\u001b[0m connection \u001b[39m=\u001b[39m happybase\u001b[39m.\u001b[39;49mConnection(\u001b[39m'\u001b[39;49m\u001b[39mlocalhost\u001b[39;49m\u001b[39m'\u001b[39;49m, port\u001b[39m=\u001b[39;49m\u001b[39m9090\u001b[39;49m)\n\u001b[1;32m      2\u001b[0m connection\u001b[39m.\u001b[39mopen()\n",
      "File \u001b[0;32m/opt/homebrew/Caskroom/miniconda/base/envs/yeardream/lib/python3.9/site-packages/happybase/connection.py:148\u001b[0m, in \u001b[0;36mConnection.__init__\u001b[0;34m(self, host, port, timeout, autoconnect, table_prefix, table_prefix_separator, compat, transport, protocol)\u001b[0m\n\u001b[1;32m    145\u001b[0m \u001b[39mself\u001b[39m\u001b[39m.\u001b[39m_refresh_thrift_client()\n\u001b[1;32m    147\u001b[0m \u001b[39mif\u001b[39;00m autoconnect:\n\u001b[0;32m--> 148\u001b[0m     \u001b[39mself\u001b[39;49m\u001b[39m.\u001b[39;49mopen()\n\u001b[1;32m    150\u001b[0m \u001b[39mself\u001b[39m\u001b[39m.\u001b[39m_initialized \u001b[39m=\u001b[39m \u001b[39mTrue\u001b[39;00m\n",
      "File \u001b[0;32m/opt/homebrew/Caskroom/miniconda/base/envs/yeardream/lib/python3.9/site-packages/happybase/connection.py:176\u001b[0m, in \u001b[0;36mConnection.open\u001b[0;34m(self)\u001b[0m\n\u001b[1;32m    173\u001b[0m     \u001b[39mreturn\u001b[39;00m\n\u001b[1;32m    175\u001b[0m logger\u001b[39m.\u001b[39mdebug(\u001b[39m\"\u001b[39m\u001b[39mOpening Thrift transport to \u001b[39m\u001b[39m%s\u001b[39;00m\u001b[39m:\u001b[39m\u001b[39m%d\u001b[39;00m\u001b[39m\"\u001b[39m, \u001b[39mself\u001b[39m\u001b[39m.\u001b[39mhost, \u001b[39mself\u001b[39m\u001b[39m.\u001b[39mport)\n\u001b[0;32m--> 176\u001b[0m \u001b[39mself\u001b[39;49m\u001b[39m.\u001b[39;49mtransport\u001b[39m.\u001b[39;49mopen()\n",
      "File \u001b[0;32m/opt/homebrew/Caskroom/miniconda/base/envs/yeardream/lib/python3.9/site-packages/thriftpy2/transport/buffered/cybuffered.pyx:34\u001b[0m, in \u001b[0;36mthriftpy2.transport.buffered.cybuffered.TCyBufferedTransport.open\u001b[0;34m()\u001b[0m\n",
      "File \u001b[0;32m/opt/homebrew/Caskroom/miniconda/base/envs/yeardream/lib/python3.9/site-packages/thriftpy2/transport/socket.py:105\u001b[0m, in \u001b[0;36mTSocket.open\u001b[0;34m(self)\u001b[0m\n\u001b[1;32m    103\u001b[0m \u001b[39mexcept\u001b[39;00m (socket\u001b[39m.\u001b[39merror, \u001b[39mOSError\u001b[39;00m):\n\u001b[1;32m    104\u001b[0m     \u001b[39mself\u001b[39m\u001b[39m.\u001b[39mclose()\n\u001b[0;32m--> 105\u001b[0m     \u001b[39mraise\u001b[39;00m TTransportException(\n\u001b[1;32m    106\u001b[0m         \u001b[39mtype\u001b[39m\u001b[39m=\u001b[39mTTransportException\u001b[39m.\u001b[39mNOT_OPEN,\n\u001b[1;32m    107\u001b[0m         message\u001b[39m=\u001b[39m\u001b[39m\"\u001b[39m\u001b[39mCould not connect to \u001b[39m\u001b[39m%s\u001b[39;00m\u001b[39m\"\u001b[39m \u001b[39m%\u001b[39m \u001b[39mstr\u001b[39m(addr))\n",
      "\u001b[0;31mTTransportException\u001b[0m: TTransportException(type=1, message=\"Could not connect to ('localhost', 9090)\")"
     ]
    }
   ],
   "source": [
=======
    "\n",
>>>>>>> a640a7f85ea0537bdfa7b75604c9da8239a20abc
    "connection = happybase.Connection('localhost', port=9090)\n",
    "connection.open()"
   ]
  },
  {
   "cell_type": "markdown",
   "id": "537b9e48-378f-4282-af7b-fd79cf7c919a",
   "metadata": {},
   "source": [
    "### create table"
   ]
  },
  {
   "cell_type": "code",
<<<<<<< HEAD
   "execution_count": 91,
   "id": "216b72ef-2ebb-4244-8f14-0dd087a101ac",
=======
   "execution_count": 56,
   "id": "6830388b-1981-49cf-aa06-d3bbc12491a5",
   "metadata": {},
   "outputs": [],
   "source": [
    "table_name = b'my_table'\n",
    "if table_name not in connection.tables():\n",
    "    connection.create_table(table_name, {'cf': dict()})"
   ]
  },
  {
   "cell_type": "markdown",
   "id": "94e501e9-199a-46b2-926c-f7b3581bd308",
   "metadata": {},
   "source": [
    "### put data"
   ]
  },
  {
   "cell_type": "code",
   "execution_count": 59,
   "id": "0a52402d-92af-47d2-896b-9817cead0b55",
   "metadata": {},
   "outputs": [],
   "source": [
    "table = connection.table(table_name)\n",
    "\n",
    "table.put('row-key1', {'cf:col1': b'value1', 'cf:col2': b'value1'})\n",
    "table.put('row-key2', {'cf:col1': b'value2', 'cf:col2': b'value2'})\n",
    "table.put('row-key3', {'cf:col1': b'value3', 'cf:col2': b'value3'})\n",
    "table.put('row-key4', {'cf:col1': b'value4', 'cf:col2': b'value4'})"
   ]
  },
  {
   "cell_type": "markdown",
   "id": "bfb88c56-f089-4403-810c-77a561a46f7f",
   "metadata": {},
   "source": [
    "### read data"
   ]
  },
  {
   "cell_type": "code",
   "execution_count": 60,
   "id": "8326a0fa-298b-410b-b3dd-377dd4f05a67",
>>>>>>> a640a7f85ea0537bdfa7b75604c9da8239a20abc
   "metadata": {},
   "outputs": [
    {
     "data": {
      "text/plain": [
<<<<<<< HEAD
       "[b'test_table2']"
      ]
     },
     "execution_count": 91,
=======
       "{b'cf:col1': b'value1', b'cf:col2': b'value1'}"
      ]
     },
     "execution_count": 60,
>>>>>>> a640a7f85ea0537bdfa7b75604c9da8239a20abc
     "metadata": {},
     "output_type": "execute_result"
    }
   ],
   "source": [
    "table.row('row-key1')"
   ]
  },
  {
   "cell_type": "markdown",
   "id": "925bea74-ae1c-4bcd-b058-ad1194266f56",
   "metadata": {},
   "source": [
    "### scan data"
   ]
  },
  {
   "cell_type": "code",
<<<<<<< HEAD
   "execution_count": 83,
   "id": "f40c9778",
   "metadata": {},
   "outputs": [
    {
     "ename": "KeyboardInterrupt",
     "evalue": "",
     "output_type": "error",
     "traceback": [
      "\u001b[0;31m---------------------------------------------------------------------------\u001b[0m",
      "\u001b[0;31mKeyboardInterrupt\u001b[0m                         Traceback (most recent call last)",
      "Cell \u001b[0;32mIn[83], line 1\u001b[0m\n\u001b[0;32m----> 1\u001b[0m connection\u001b[39m.\u001b[39;49mdisable_table(\u001b[39m'\u001b[39;49m\u001b[39mtest_table1\u001b[39;49m\u001b[39m'\u001b[39;49m)\n\u001b[1;32m      2\u001b[0m \u001b[39mprint\u001b[39m(\u001b[39m1\u001b[39m)\n\u001b[1;32m      3\u001b[0m connection\u001b[39m.\u001b[39mdelete_table(\u001b[39m'\u001b[39m\u001b[39mtest_table1\u001b[39m\u001b[39m'\u001b[39m)\n",
      "File \u001b[0;32m/opt/homebrew/Caskroom/miniconda/base/envs/yeardream/lib/python3.9/site-packages/happybase/connection.py:344\u001b[0m, in \u001b[0;36mConnection.disable_table\u001b[0;34m(self, name)\u001b[0m\n\u001b[1;32m    339\u001b[0m \u001b[39m\"\"\"Disable the specified table.\u001b[39;00m\n\u001b[1;32m    340\u001b[0m \n\u001b[1;32m    341\u001b[0m \u001b[39m:param str name: The table name\u001b[39;00m\n\u001b[1;32m    342\u001b[0m \u001b[39m\"\"\"\u001b[39;00m\n\u001b[1;32m    343\u001b[0m name \u001b[39m=\u001b[39m \u001b[39mself\u001b[39m\u001b[39m.\u001b[39m_table_name(name)\n\u001b[0;32m--> 344\u001b[0m \u001b[39mself\u001b[39;49m\u001b[39m.\u001b[39;49mclient\u001b[39m.\u001b[39;49mdisableTable(name)\n",
      "File \u001b[0;32m/opt/homebrew/Caskroom/miniconda/base/envs/yeardream/lib/python3.9/site-packages/thriftpy2/thrift.py:219\u001b[0m, in \u001b[0;36mTClient._req\u001b[0;34m(self, _api, *args, **kwargs)\u001b[0m\n\u001b[1;32m    217\u001b[0m \u001b[39m# wait result only if non-oneway\u001b[39;00m\n\u001b[1;32m    218\u001b[0m \u001b[39mif\u001b[39;00m \u001b[39mnot\u001b[39;00m \u001b[39mgetattr\u001b[39m(result_cls, \u001b[39m\"\u001b[39m\u001b[39moneway\u001b[39m\u001b[39m\"\u001b[39m):\n\u001b[0;32m--> 219\u001b[0m     \u001b[39mreturn\u001b[39;00m \u001b[39mself\u001b[39;49m\u001b[39m.\u001b[39;49m_recv(_api)\n",
      "File \u001b[0;32m/opt/homebrew/Caskroom/miniconda/base/envs/yeardream/lib/python3.9/site-packages/thriftpy2/thrift.py:231\u001b[0m, in \u001b[0;36mTClient._recv\u001b[0;34m(self, _api)\u001b[0m\n\u001b[1;32m    230\u001b[0m \u001b[39mdef\u001b[39;00m \u001b[39m_recv\u001b[39m(\u001b[39mself\u001b[39m, _api):\n\u001b[0;32m--> 231\u001b[0m     fname, mtype, rseqid \u001b[39m=\u001b[39m \u001b[39mself\u001b[39;49m\u001b[39m.\u001b[39;49m_iprot\u001b[39m.\u001b[39;49mread_message_begin()\n\u001b[1;32m    232\u001b[0m     \u001b[39mif\u001b[39;00m mtype \u001b[39m==\u001b[39m TMessageType\u001b[39m.\u001b[39mEXCEPTION:\n\u001b[1;32m    233\u001b[0m         x \u001b[39m=\u001b[39m TApplicationException()\n",
      "File \u001b[0;32m/opt/homebrew/Caskroom/miniconda/base/envs/yeardream/lib/python3.9/site-packages/thriftpy2/protocol/cybin/cybin.pyx:463\u001b[0m, in \u001b[0;36mcybin.TCyBinaryProtocol.read_message_begin\u001b[0;34m()\u001b[0m\n",
      "File \u001b[0;32m/opt/homebrew/Caskroom/miniconda/base/envs/yeardream/lib/python3.9/site-packages/thriftpy2/protocol/cybin/cybin.pyx:68\u001b[0m, in \u001b[0;36mcybin.read_i32\u001b[0;34m()\u001b[0m\n",
      "File \u001b[0;32m/opt/homebrew/Caskroom/miniconda/base/envs/yeardream/lib/python3.9/site-packages/thriftpy2/transport/buffered/cybuffered.pyx:65\u001b[0m, in \u001b[0;36mthriftpy2.transport.buffered.cybuffered.TCyBufferedTransport.c_read\u001b[0;34m()\u001b[0m\n",
      "File \u001b[0;32m/opt/homebrew/Caskroom/miniconda/base/envs/yeardream/lib/python3.9/site-packages/thriftpy2/transport/buffered/cybuffered.pyx:69\u001b[0m, in \u001b[0;36mthriftpy2.transport.buffered.cybuffered.TCyBufferedTransport.read_trans\u001b[0;34m()\u001b[0m\n",
      "File \u001b[0;32m/opt/homebrew/Caskroom/miniconda/base/envs/yeardream/lib/python3.9/site-packages/thriftpy2/transport/cybase.pyx:61\u001b[0m, in \u001b[0;36mthriftpy2.transport.cybase.TCyBuffer.read_trans\u001b[0;34m()\u001b[0m\n",
      "File \u001b[0;32m/opt/homebrew/Caskroom/miniconda/base/envs/yeardream/lib/python3.9/site-packages/thriftpy2/transport/socket.py:112\u001b[0m, in \u001b[0;36mTSocket.read\u001b[0;34m(self, sz)\u001b[0m\n\u001b[1;32m    110\u001b[0m \u001b[39mwhile\u001b[39;00m \u001b[39mTrue\u001b[39;00m:\n\u001b[1;32m    111\u001b[0m     \u001b[39mtry\u001b[39;00m:\n\u001b[0;32m--> 112\u001b[0m         buff \u001b[39m=\u001b[39m \u001b[39mself\u001b[39;49m\u001b[39m.\u001b[39;49msock\u001b[39m.\u001b[39;49mrecv(sz)\n\u001b[1;32m    113\u001b[0m     \u001b[39mexcept\u001b[39;00m socket\u001b[39m.\u001b[39merror \u001b[39mas\u001b[39;00m e:\n\u001b[1;32m    114\u001b[0m         \u001b[39mif\u001b[39;00m e\u001b[39m.\u001b[39merrno \u001b[39m==\u001b[39m errno\u001b[39m.\u001b[39mEINTR:\n",
      "\u001b[0;31mKeyboardInterrupt\u001b[0m: "
     ]
    }
   ],
   "source": [
    "connection.disable_table('test_table1')\n",
    "print(1)\n",
    "connection.delete_table('test_table1')"
   ]
  },
  {
   "cell_type": "code",
   "execution_count": 87,
   "id": "f9116171-ba1e-4b8e-9049-2adf4fbb42cf",
=======
   "execution_count": 64,
   "id": "ccfa884b-99a0-451d-9ef1-bdf8cfd1e9e4",
>>>>>>> a640a7f85ea0537bdfa7b75604c9da8239a20abc
   "metadata": {},
   "outputs": [
    {
     "name": "stdout",
     "output_type": "stream",
     "text": [
      "b'row-key1' {b'cf:col2': b'value1'}\n",
      "b'row-key2' {b'cf:col2': b'value2'}\n"
     ]
    }
   ],
   "source": [
<<<<<<< HEAD
    "# 'my_table'이라는 테이블을 생성\n",
    "connection.create_table(\n",
    "    'test_table2',\n",
    "    {'cf': dict(),  # use defaults\n",
    "    }\n",
    ")\n"
=======
    "for key, data in table.scan(row_start='row-key1', row_stop='row-key3', columns=['cf:col2']):\n",
    "    print(key, data) "
   ]
  },
  {
   "cell_type": "markdown",
   "id": "7e46a495-ddb8-4357-83b6-bbe803e3af97",
   "metadata": {},
   "source": [
    "### delete data"
>>>>>>> a640a7f85ea0537bdfa7b75604c9da8239a20abc
   ]
  },
  {
   "cell_type": "code",
<<<<<<< HEAD
   "execution_count": 95,
   "id": "7ea50755",
   "metadata": {},
   "outputs": [
    {
     "name": "stdout",
     "output_type": "stream",
     "text": [
      "0\n"
     ]
    },
    {
     "ename": "TTransportException",
     "evalue": "TTransportException(type=4, message='TSocket read 0 bytes')",
     "output_type": "error",
     "traceback": [
      "\u001b[0;31m---------------------------------------------------------------------------\u001b[0m",
      "\u001b[0;31mTTransportException\u001b[0m                       Traceback (most recent call last)",
      "Cell \u001b[0;32mIn[95], line 6\u001b[0m\n\u001b[1;32m      3\u001b[0m data_folder \u001b[39m=\u001b[39m \u001b[39m'\u001b[39m\u001b[39m./airflow/data\u001b[39m\u001b[39m'\u001b[39m\n\u001b[1;32m      5\u001b[0m \u001b[39mprint\u001b[39m(\u001b[39m0\u001b[39m)\n\u001b[0;32m----> 6\u001b[0m \u001b[39mif\u001b[39;00m \u001b[39mbytes\u001b[39m(table_name, encoding\u001b[39m=\u001b[39m\u001b[39m'\u001b[39m\u001b[39mutf-8\u001b[39m\u001b[39m'\u001b[39m) \u001b[39mnot\u001b[39;00m \u001b[39min\u001b[39;00m connection\u001b[39m.\u001b[39;49mtables():\n\u001b[1;32m      7\u001b[0m     connection\u001b[39m.\u001b[39mcreate_table(\n\u001b[1;32m      8\u001b[0m         \u001b[39m'\u001b[39m\u001b[39mtest_table2\u001b[39m\u001b[39m'\u001b[39m,\n\u001b[1;32m      9\u001b[0m         {\u001b[39m'\u001b[39m\u001b[39mcf\u001b[39m\u001b[39m'\u001b[39m: \u001b[39mdict\u001b[39m(),  \u001b[39m# use defaults\u001b[39;00m\n\u001b[1;32m     10\u001b[0m         }\n\u001b[1;32m     11\u001b[0m     ) \n\u001b[1;32m     12\u001b[0m \u001b[39mfor\u001b[39;00m file_name \u001b[39min\u001b[39;00m os\u001b[39m.\u001b[39mlistdir(data_folder):\n",
      "File \u001b[0;32m/opt/homebrew/Caskroom/miniconda/base/envs/yeardream/lib/python3.9/site-packages/happybase/connection.py:242\u001b[0m, in \u001b[0;36mConnection.tables\u001b[0;34m(self)\u001b[0m\n\u001b[1;32m    233\u001b[0m \u001b[39mdef\u001b[39;00m \u001b[39mtables\u001b[39m(\u001b[39mself\u001b[39m):\n\u001b[1;32m    234\u001b[0m     \u001b[39m\"\"\"Return a list of table names available in this HBase instance.\u001b[39;00m\n\u001b[1;32m    235\u001b[0m \n\u001b[1;32m    236\u001b[0m \u001b[39m    If a `table_prefix` was set for this :py:class:`Connection`, only\u001b[39;00m\n\u001b[0;32m   (...)\u001b[0m\n\u001b[1;32m    240\u001b[0m \u001b[39m    :rtype: List of strings\u001b[39;00m\n\u001b[1;32m    241\u001b[0m \u001b[39m    \"\"\"\u001b[39;00m\n\u001b[0;32m--> 242\u001b[0m     names \u001b[39m=\u001b[39m \u001b[39mself\u001b[39;49m\u001b[39m.\u001b[39;49mclient\u001b[39m.\u001b[39;49mgetTableNames()\n\u001b[1;32m    244\u001b[0m     \u001b[39m# Filter using prefix, and strip prefix from names\u001b[39;00m\n\u001b[1;32m    245\u001b[0m     \u001b[39mif\u001b[39;00m \u001b[39mself\u001b[39m\u001b[39m.\u001b[39mtable_prefix \u001b[39mis\u001b[39;00m \u001b[39mnot\u001b[39;00m \u001b[39mNone\u001b[39;00m:\n",
      "File \u001b[0;32m/opt/homebrew/Caskroom/miniconda/base/envs/yeardream/lib/python3.9/site-packages/thriftpy2/thrift.py:219\u001b[0m, in \u001b[0;36mTClient._req\u001b[0;34m(self, _api, *args, **kwargs)\u001b[0m\n\u001b[1;32m    217\u001b[0m \u001b[39m# wait result only if non-oneway\u001b[39;00m\n\u001b[1;32m    218\u001b[0m \u001b[39mif\u001b[39;00m \u001b[39mnot\u001b[39;00m \u001b[39mgetattr\u001b[39m(result_cls, \u001b[39m\"\u001b[39m\u001b[39moneway\u001b[39m\u001b[39m\"\u001b[39m):\n\u001b[0;32m--> 219\u001b[0m     \u001b[39mreturn\u001b[39;00m \u001b[39mself\u001b[39;49m\u001b[39m.\u001b[39;49m_recv(_api)\n",
      "File \u001b[0;32m/opt/homebrew/Caskroom/miniconda/base/envs/yeardream/lib/python3.9/site-packages/thriftpy2/thrift.py:231\u001b[0m, in \u001b[0;36mTClient._recv\u001b[0;34m(self, _api)\u001b[0m\n\u001b[1;32m    230\u001b[0m \u001b[39mdef\u001b[39;00m \u001b[39m_recv\u001b[39m(\u001b[39mself\u001b[39m, _api):\n\u001b[0;32m--> 231\u001b[0m     fname, mtype, rseqid \u001b[39m=\u001b[39m \u001b[39mself\u001b[39;49m\u001b[39m.\u001b[39;49m_iprot\u001b[39m.\u001b[39;49mread_message_begin()\n\u001b[1;32m    232\u001b[0m     \u001b[39mif\u001b[39;00m mtype \u001b[39m==\u001b[39m TMessageType\u001b[39m.\u001b[39mEXCEPTION:\n\u001b[1;32m    233\u001b[0m         x \u001b[39m=\u001b[39m TApplicationException()\n",
      "File \u001b[0;32m/opt/homebrew/Caskroom/miniconda/base/envs/yeardream/lib/python3.9/site-packages/thriftpy2/protocol/cybin/cybin.pyx:463\u001b[0m, in \u001b[0;36mcybin.TCyBinaryProtocol.read_message_begin\u001b[0;34m()\u001b[0m\n",
      "File \u001b[0;32m/opt/homebrew/Caskroom/miniconda/base/envs/yeardream/lib/python3.9/site-packages/thriftpy2/protocol/cybin/cybin.pyx:68\u001b[0m, in \u001b[0;36mcybin.read_i32\u001b[0;34m()\u001b[0m\n",
      "File \u001b[0;32m/opt/homebrew/Caskroom/miniconda/base/envs/yeardream/lib/python3.9/site-packages/thriftpy2/transport/buffered/cybuffered.pyx:65\u001b[0m, in \u001b[0;36mthriftpy2.transport.buffered.cybuffered.TCyBufferedTransport.c_read\u001b[0;34m()\u001b[0m\n",
      "File \u001b[0;32m/opt/homebrew/Caskroom/miniconda/base/envs/yeardream/lib/python3.9/site-packages/thriftpy2/transport/buffered/cybuffered.pyx:69\u001b[0m, in \u001b[0;36mthriftpy2.transport.buffered.cybuffered.TCyBufferedTransport.read_trans\u001b[0;34m()\u001b[0m\n",
      "File \u001b[0;32m/opt/homebrew/Caskroom/miniconda/base/envs/yeardream/lib/python3.9/site-packages/thriftpy2/transport/cybase.pyx:61\u001b[0m, in \u001b[0;36mthriftpy2.transport.cybase.TCyBuffer.read_trans\u001b[0;34m()\u001b[0m\n",
      "File \u001b[0;32m/opt/homebrew/Caskroom/miniconda/base/envs/yeardream/lib/python3.9/site-packages/thriftpy2/transport/socket.py:131\u001b[0m, in \u001b[0;36mTSocket.read\u001b[0;34m(self, sz)\u001b[0m\n\u001b[1;32m    128\u001b[0m         \u001b[39mbreak\u001b[39;00m\n\u001b[1;32m    130\u001b[0m \u001b[39mif\u001b[39;00m \u001b[39mlen\u001b[39m(buff) \u001b[39m==\u001b[39m \u001b[39m0\u001b[39m:\n\u001b[0;32m--> 131\u001b[0m     \u001b[39mraise\u001b[39;00m TTransportException(\u001b[39mtype\u001b[39m\u001b[39m=\u001b[39mTTransportException\u001b[39m.\u001b[39mEND_OF_FILE,\n\u001b[1;32m    132\u001b[0m                               message\u001b[39m=\u001b[39m\u001b[39m'\u001b[39m\u001b[39mTSocket read 0 bytes\u001b[39m\u001b[39m'\u001b[39m)\n\u001b[1;32m    133\u001b[0m \u001b[39mreturn\u001b[39;00m buff\n",
      "\u001b[0;31mTTransportException\u001b[0m: TTransportException(type=4, message='TSocket read 0 bytes')"
     ]
    }
   ],
   "source": [
    "table_name = 'test_table2'\n",
    "\n",
    "data_folder = './airflow/data'\n",
    "\n",
    "print(0)\n",
    "if bytes(table_name, encoding='utf-8') not in connection.tables():\n",
    "    connection.create_table(\n",
    "        'test_table2',\n",
    "        {'cf': dict(),  # use defaults\n",
    "        }\n",
    "    ) \n",
    "for file_name in os.listdir(data_folder):\n",
    "    print(1)\n",
    "    if file_name.endswith('.csv'):\n",
    "        check = 1\n",
    "        file_path = os.path.join(data_folder,file_name)\n",
    "        with open(file_path,'r', encoding='UTF-8') as file:\n",
    "            data = csv.reader(file)\n",
    "            table = connection.table(table_name)\n",
    "            # put the data in table\n",
    "            row_key = file_name[::-1][4:]\n",
    "            column_family = 'cf'\n",
    "            # for row in data:\n",
    "            #     column =row[4]\n",
    "            #     content = row[5]\n",
    "            #     table.put(row_key,{f'{column_family}:{column}':content})\n",
    "            for row in data:\n",
    "                \n",
    "                #print(file_name, row[4], row[5])\n",
    "                if check == 1:\n",
    "                    column = row[4]\n",
    "                    content = row[5]\n",
    "                    table.put(row_key,{f'{column_family}:{column}':content})\n",
    "                    check = 0\n",
    "            #table.put(row_key,{f'{column_family}:{file_name}':data[0][4]})\n",
    "    "
=======
   "execution_count": 65,
   "id": "7d3c6a85-c23c-455c-bb12-c6ab78669cf6",
   "metadata": {},
   "outputs": [],
   "source": [
    "table.delete(b'row_key1')"
   ]
  },
  {
   "cell_type": "markdown",
   "id": "70410990-97d1-4d6a-910c-d76c1dc43a95",
   "metadata": {},
   "source": [
    "### delete table"
>>>>>>> a640a7f85ea0537bdfa7b75604c9da8239a20abc
   ]
  },
  {
   "cell_type": "code",
<<<<<<< HEAD
   "execution_count": 20,
   "id": "411d160d-a622-45de-9270-ce12f1341432",
   "metadata": {},
   "outputs": [],
   "source": [
    "# 'my_table'에 대한 핸들을 얻음\n",
    "table = connection.table('test_table1')"
   ]
  },
  {
   "cell_type": "code",
   "execution_count": 7,
   "id": "45882519-a2d8-4781-aa9c-b43036630b6f",
   "metadata": {},
   "outputs": [],
   "source": [
    "# 테이블에 데이터를 삽입\n",
    "table.put('row-key1', {'cf1:qual1': 'value1', 'cf2:qual2': 'value2'})"
   ]
  },
  {
   "cell_type": "code",
   "execution_count": 8,
   "id": "2f8b31de-5b45-4f88-bfe8-7571bbd0a14b",
   "metadata": {},
   "outputs": [],
   "source": [
    "# 테이블에서 데이터를 조회\n",
    "row = table.row('row-key1')"
   ]
  },
  {
   "cell_type": "code",
   "execution_count": 9,
   "id": "7d44a9d0-1d8f-470f-9181-c7254686b7e7",
   "metadata": {},
   "outputs": [
    {
     "name": "stdout",
     "output_type": "stream",
     "text": [
      "b'value1'\n"
     ]
    }
   ],
   "source": [
    "print(row[b'cf1:qual1'])  # 출력: 'value1'"
   ]
  },
  {
   "cell_type": "code",
   "execution_count": 10,
   "id": "dc949c4c-7227-45bd-909a-e13a4c3f53b5",
   "metadata": {},
   "outputs": [
    {
     "name": "stdout",
     "output_type": "stream",
     "text": [
      "b'row-key1' {b'cf1:qual1': b'value1', b'cf2:qual2': b'value2'}\n"
     ]
    }
   ],
   "source": [
    "# 'cf1' 컬럼 패밀리의 모든 데이터를 스캔\n",
    "for key, data in table.scan('cf1'):\n",
    "    print(key, data)  # key와 data를 출력"
   ]
=======
   "execution_count": null,
   "id": "d62486f7-29e6-42f5-8c28-2a775bb812b6",
   "metadata": {},
   "outputs": [],
   "source": [
    "# disable first -> delete\n",
    "connection.disable_table(table_name)\n",
    "connection.delete_table(table_name)\n",
    "connection.tables()"
   ]
  },
  {
   "cell_type": "code",
   "execution_count": null,
   "id": "cc90ede9-6987-4f79-ba6b-1920f63ee552",
   "metadata": {},
   "outputs": [],
   "source": []
  },
  {
   "cell_type": "code",
   "execution_count": 46,
   "id": "411d160d-a622-45de-9270-ce12f1341432",
   "metadata": {},
   "outputs": [],
   "source": []
>>>>>>> a640a7f85ea0537bdfa7b75604c9da8239a20abc
  },
  {
   "cell_type": "code",
   "execution_count": null,
   "id": "6466410e-9f5d-43d7-86eb-d27e0863d9ce",
   "metadata": {},
   "outputs": [],
   "source": []
  },
  {
   "cell_type": "code",
<<<<<<< HEAD
   "execution_count": 11,
   "id": "69f847a3-832f-49e7-80ef-41f794470be1",
   "metadata": {},
   "outputs": [],
   "source": [
    "test=b'asd4'"
   ]
  },
  {
   "cell_type": "code",
   "execution_count": 12,
   "id": "84394b5a-871e-4668-9df0-1753d5078e80",
   "metadata": {},
   "outputs": [
    {
     "name": "stdout",
     "output_type": "stream",
     "text": [
      "97 115 100 52\n"
     ]
    }
   ],
   "source": [
    "print(*test)"
   ]
  },
  {
   "cell_type": "code",
   "execution_count": 16,
=======
   "execution_count": null,
>>>>>>> a640a7f85ea0537bdfa7b75604c9da8239a20abc
   "id": "579c6ff1-f116-4ff3-b042-9da6446e3e68",
   "metadata": {},
   "outputs": [],
   "source": [
    "import time\n",
    "from datetime import datetime\n",
    "import csv\n",
    "import requests\n",
    "from bs4 import BeautifulSoup\n",
    "\n",
    "def crawling_news(ticker, sleep_interval=1):\n",
    "    data_exists = True\n",
    "    data = []\n",
    "    headers = {\n",
    "        \"User-Agent\": \"Mozilla/5.0 (Macintosh; Intel Mac OS X 10_12_6) AppleWebKit/537.36 (KHTML, like Gecko) Chrome/61.0.3163.100 Safari/537.36\"\n",
    "    }\n",
    "    try:\n",
    "        # enter ticker news page\n",
    "        url = f\"https://finance.naver.com/item/news_news.naver?code={ticker}&page={1}&sm=title_entity_id.basic&clusterId=\"\n",
    "        time.sleep(sleep_interval)\n",
    "        response = requests.get(url, headers)\n",
    "        # parsing => delete related news on page 1\n",
    "        soup = BeautifulSoup(response.text, \"html.parser\")\n",
    "        all_tr = soup.select(\"table.type5 > tbody > tr:not(.relation_lst)\")\n",
    "        related_tr = soup.select(\n",
    "            \"table.type5 > tbody > tr.relation_lst > td > table > tbody > tr\"\n",
    "        )\n",
    "        articles = list(set(all_tr) - set(related_tr))\n",
    "\n",
    "        # collect links and datetimes of articles on page 1\n",
    "        for article in articles:\n",
    "            try:\n",
    "                # link\n",
    "                link = article.select(\"a\")[0].attrs[\"href\"]\n",
    "                # date\n",
    "                date = article.select(\"td.date\")[0].text.strip()\n",
    "                date = datetime.strptime(date, \"%Y.%m.%d %H:%M\")\n",
    "                data.append([date, f\"https://finance.naver.com{link}\"])\n",
    "            except Exception as ex:\n",
    "                print(f\"article : 명령 전송 중 오류가 발생했습니다: {str(ex)}\")\n",
    "                data_exists = False\n",
    "                return (data, data_exists)\n",
    "\n",
    "        # sort by datetime\n",
    "        data.sort(reverse=True)\n",
    "\n",
    "        # collect title and contents of articles\n",
    "        for i in range(len(data)):\n",
    "            # link\n",
    "            url = data[i][1]\n",
    "\n",
    "            # move to article page\n",
    "            time.sleep(sleep_interval)\n",
    "            response = requests.get(url, headers)\n",
    "            soup = BeautifulSoup(response.text, \"html.parser\")\n",
    "\n",
    "            # title\n",
    "            title = soup.select_one(\"strong.c\")\n",
    "            if title:\n",
    "                data[i].append(title.text.strip())\n",
    "\n",
    "            # content\n",
    "            content = soup.select_one(\"div.scr01\")\n",
    "            if content:\n",
    "                data[i].append(content.text.strip())\n",
    "        return (data, data_exists)\n",
    "    except Exception as e:\n",
    "        print(f\"crawling : 명령 전송 중 오류가 발생했습니다: {str(e)}\")"
   ]
  },
  {
   "cell_type": "code",
   "execution_count": 19,
   "id": "95449bcd",
   "metadata": {},
   "outputs": [],
   "source": [
    "def save_data(ticker,data, data_exists):\n",
    "    columns = ['date', 'rink', 'title', 'content']\n",
    "    folder_path = './airflow/data/'\n",
    "    if data_exists:\n",
    "        with open(folder_path+ticker+'.csv', 'w', newline='') as file:\n",
    "            \n",
    "            writer = csv.writer(file)\n",
    "            writer.writerow(columns)\n",
    "            writer.writerows(data)\n",
    "\n",
    "\n"
   ]
  },
  {
   "cell_type": "code",
   "execution_count": 21,
   "id": "c4343e81",
   "metadata": {},
   "outputs": [],
   "source": [
    "tickers =['095570',\n",
    " '006840',\n",
    " '027410',\n",
    " '282330',\n",
    " '138930',\n",
    " '001460',\n",
    " '001465',\n",
    " '001040',\n",
    " '079160']\n",
    "\n",
    "\n",
    "\n"
   ]
  },
  {
   "cell_type": "code",
   "execution_count": 22,
   "id": "b91ea88c",
   "metadata": {},
   "outputs": [
    {
     "name": "stdout",
     "output_type": "stream",
     "text": [
      "article : 명령 전송 중 오류가 발생했습니다: list index out of range\n"
     ]
    }
   ],
   "source": [
    "def crawl_task(ticker):\n",
    "    data, data_exists = crawling_news(ticker)\n",
    "    save_data(ticker,data, data_exists)\n",
    "\n",
    "for ticker in tickers:\n",
    "    crawl_task(ticker)"
   ]
  },
  {
   "cell_type": "code",
   "execution_count": null,
   "id": "15b66072",
   "metadata": {},
   "outputs": [],
   "source": []
  }
 ],
 "metadata": {
  "kernelspec": {
   "display_name": "Python 3 (ipykernel)",
   "language": "python",
   "name": "python3"
  },
  "language_info": {
   "codemirror_mode": {
    "name": "ipython",
    "version": 3
   },
   "file_extension": ".py",
   "mimetype": "text/x-python",
   "name": "python",
   "nbconvert_exporter": "python",
   "pygments_lexer": "ipython3",
   "version": "3.9.16"
  }
 },
 "nbformat": 4,
 "nbformat_minor": 5
}
