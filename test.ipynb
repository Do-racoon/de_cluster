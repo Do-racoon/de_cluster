{
 "cells": [
  {
   "cell_type": "markdown",
   "id": "4262dd2c-1a44-4b18-a91c-7f96550d774c",
   "metadata": {},
   "source": [
    "## Hadoop HDFS"
   ]
  },
  {
   "cell_type": "code",
   "execution_count": 1,
   "id": "778cccf2-56a5-434f-84b8-22d0ba8a23f2",
   "metadata": {},
   "outputs": [],
   "source": [
    "import sys\n",
    "import json\n",
    "import requests\n",
    "\n",
    "\n",
    "class HDFSClient:\n",
    "    \"\"\"\n",
    "        official docs:\n",
    "            https://hadoop.apache.org/docs/r3.3.5/hadoop-project-dist/hadoop-hdfs/WebHDFS.html\n",
    "        python library:\n",
    "            https://github.com/mtth/hdfs\n",
    "            \n",
    "        이 프로젝트에서는 namenode 와 datanode 가 Docker 컨테이너 이름으로 서로 통신을 한다.\n",
    "        하지만 호스트에서는 컨테이너 이름으로 접근할 수 없어 자동으로 리다이렉트를 해주는 hdfs 라이브러리를 사용할 수 없다.\n",
    "        따라서 namenode로 부터 받아온 datanode 주소를 직접 변경 후에 datanode에 요청을 보내기 위해 Client Class 를 작성하였다.\n",
    "    \"\"\"\n",
    "    def __init__(self, namenode='http://localhost:9870', user='root'):\n",
    "        self.namenode = namenode\n",
    "        self.ports = {'datanode1': '9862', 'datanode2': '9863', 'datanode3': '9864'}\n",
    "        self.session = requests.Session()\n",
    "        self.session.params['user.name'] = user\n",
    "    \n",
    "    def ls(self, hdfs_path):\n",
    "        hdfs_path = hdfs_path.lstrip('/')\n",
    "        \n",
    "        url = f'{self.namenode}/webhdfs/v1/{hdfs_path}?op=LISTSTATUS'\n",
    "        res = self.session.get(url)\n",
    "        return [status['pathSuffix'] for status in res.json()['FileStatuses']['FileStatus']]\n",
    "    \n",
    "    def mkdir(self, hdfs_path):\n",
    "        hdfs_path = hdfs_path.lstrip('/')\n",
    "        \n",
    "        url = f'{self.namenode}/webhdfs/v1/{hdfs_path}?op=MKDIRS'\n",
    "        res = self.session.put(url)\n",
    "        return res.json()\n",
    "    \n",
    "    def write(self, hdfs_path, data, overwrite=False, buffersize=128*1024, append=False):\n",
    "        hdfs_path = hdfs_path.lstrip('/')\n",
    "        \n",
    "        # namenode에게 데이터를 쓸 datanode 요청\n",
    "        url = f\"{self.namenode}/webhdfs/v1/{hdfs_path}?\"\n",
    "        if append:\n",
    "            if overwrite:\n",
    "                raise ValueError('Cannot both overwrite and append.')\n",
    "            url += \"op=APPEND\"\n",
    "        else:\n",
    "            url += \"op=CREATE\"\n",
    "        url += f\"&noredirect=true&overwrite={str(overwrite).lower()}&buffersize={buffersize}\"\n",
    "        res = self.session.post(url) if append else self.session.put(url)\n",
    "\n",
    "        # datanode 주소 변환\n",
    "        location = res.json()['Location']\n",
    "        location = self.transform(location)\n",
    "        \n",
    "        # datanode에게 데이터 쓰기 요청\n",
    "        res = self.session.post(location, data=data) if append else self.session.put(location, data=data)\n",
    "        return res\n",
    "    \n",
    "    def upload(self, hdfs_path, local_path, buffersize=128*1024):\n",
    "        hdfs_path = hdfs_path.lstrip('/')\n",
    "        \n",
    "        try:\n",
    "            with open(local_path, 'rb') as reader:\n",
    "                data = reader.read()\n",
    "                self.write(hdfs_path, data, buffersize=buffersize)\n",
    "            return True\n",
    "        except:\n",
    "            self.delete(hdfs_path)\n",
    "            return False\n",
    "    \n",
    "    def read(self, hdfs_path, buffersize=128*1024):\n",
    "        hdfs_path = hdfs_path.lstrip('/')\n",
    "        \n",
    "        # namenode에게 데이터를 읽울 datanode 요청\n",
    "        url = f\"{self.namenode}/webhdfs/v1/{hdfs_path}?op=OPEN&noredirect=true&buffersize={buffersize}\"\n",
    "        res = self.session.get(url)\n",
    "        \n",
    "        # datanode 주소 변환\n",
    "        location = res.json()['Location']\n",
    "        location = self.transform(location)\n",
    "        \n",
    "        # datanode에게 데이터 읽기 요청\n",
    "        res = self.session.get(location)\n",
    "        return res\n",
    "    \n",
    "    def download(self, hdfs_path, local_path, buffersize=128*1024):\n",
    "        hdfs_path = hdfs_path.lstrip('/')\n",
    "        \n",
    "        try:\n",
    "            with open(local_path, 'wb') as writer:\n",
    "                with self.read(hdfs_path, buffersize=buffersize) as reader:\n",
    "                    for chunk in reader:\n",
    "                        writer.write(chunk)\n",
    "            return True\n",
    "        except:\n",
    "            return False\n",
    "    \n",
    "    def delete(self, hdfs_path, isdir=False):\n",
    "        hdfs_path = hdfs_path.lstrip('/')\n",
    "        \n",
    "        url = f'{self.namenode}/webhdfs/v1/{hdfs_path}?op=DELETE&recursive={str(isdir).lower()}'\n",
    "        res = self.session.delete(url)\n",
    "        return res.json()\n",
    "    \n",
    "    def transform(self, location):\n",
    "        location = location.split(\"/\")\n",
    "        datanode, _ = location[2].split(\":\")\n",
    "        location[2] = f'localhost:{self.ports[datanode]}'\n",
    "        return '/'.join(location)"
   ]
  },
  {
   "cell_type": "code",
   "execution_count": 2,
   "id": "6cf79acc-86f4-49c6-84c9-b04696225a57",
   "metadata": {},
   "outputs": [],
   "source": [
    "hdfs = HDFSClient()"
   ]
  },
  {
   "cell_type": "markdown",
   "id": "9036bdd2-7bb1-45f5-be35-ed42bc7781f6",
   "metadata": {},
   "source": [
    "### make directory"
   ]
  },
  {
   "cell_type": "code",
   "execution_count": 3,
   "id": "41cdf6e0-0fb3-4a1d-b991-17d05b1516e6",
   "metadata": {},
   "outputs": [
    {
     "data": {
      "text/plain": [
       "{'boolean': True}"
      ]
     },
     "execution_count": 3,
     "metadata": {},
     "output_type": "execute_result"
    }
   ],
   "source": [
    "hdfs.mkdir('/test')"
   ]
  },
  {
   "cell_type": "markdown",
   "id": "2c8fee6f-c471-401d-be1c-3dbe170b6f8f",
   "metadata": {},
   "source": [
    "### list directory"
   ]
  },
  {
   "cell_type": "code",
   "execution_count": 4,
   "id": "5f498dd9-61c9-4a35-af31-6a261fce7f6c",
   "metadata": {},
   "outputs": [
    {
     "data": {
      "text/plain": [
       "['hbase', 'models', 'test']"
      ]
     },
     "execution_count": 4,
     "metadata": {},
     "output_type": "execute_result"
    }
   ],
   "source": [
    "hdfs.ls('/')"
   ]
  },
  {
   "cell_type": "markdown",
   "id": "0c8b9dfb-1f4b-4336-9013-ef0e8fde955f",
   "metadata": {},
   "source": [
    "### write data"
   ]
  },
  {
   "cell_type": "code",
   "execution_count": 5,
   "id": "8360a2b0-1174-4293-b8ae-745fa3917e6e",
   "metadata": {},
   "outputs": [],
   "source": [
    "res = hdfs.write('/test/test.txt', 'test text file!', overwrite=True, append=False)"
   ]
  },
  {
   "cell_type": "markdown",
   "id": "ca9db805-154e-4830-8150-8a0582995215",
   "metadata": {},
   "source": [
    "### read data"
   ]
  },
  {
   "cell_type": "code",
   "execution_count": 6,
   "id": "5e437f8e-16fa-40e1-976a-e709ca6ce872",
   "metadata": {},
   "outputs": [
    {
     "data": {
      "text/plain": [
       "b'test text file!'"
      ]
     },
     "execution_count": 6,
     "metadata": {},
     "output_type": "execute_result"
    }
   ],
   "source": [
    "res = hdfs.read('/test/test.txt')\n",
    "res.content"
   ]
  },
  {
   "cell_type": "markdown",
   "id": "508d5673-2515-4186-bd54-f6b442072352",
   "metadata": {},
   "source": [
    "### make directory"
   ]
  },
  {
   "cell_type": "code",
   "execution_count": 7,
   "id": "10369157-91bf-40cb-b0c7-1f465ecf7a62",
   "metadata": {},
   "outputs": [],
   "source": [
    "import pickle\n",
    "\n",
    "data = {\n",
    "    'a': [1, 2.0, 3, 4+6j],\n",
    "    'b': ('string', u'Unicode string'),\n",
    "    'c': None\n",
    "}\n",
    "\n",
    "with open('data.pkl', 'wb') as f:\n",
    "    pickle.dump(data, f)"
   ]
  },
  {
   "cell_type": "code",
   "execution_count": 8,
   "id": "c9db8ffd-6da2-43fa-804a-856c26d00f87",
   "metadata": {},
   "outputs": [
    {
     "data": {
      "text/plain": [
       "True"
      ]
     },
     "execution_count": 8,
     "metadata": {},
     "output_type": "execute_result"
    }
   ],
   "source": [
    "hdfs.upload('/test/data.pkl', 'data.pkl')"
   ]
  },
  {
   "cell_type": "code",
   "execution_count": 9,
   "id": "9200397a-a74f-42be-9a6c-45cc5c56fb7c",
   "metadata": {},
   "outputs": [
    {
     "data": {
      "text/plain": [
       "{'a': [1, 2.0, 3, (4+6j)], 'b': ('string', 'Unicode string'), 'c': None}"
      ]
     },
     "execution_count": 9,
     "metadata": {},
     "output_type": "execute_result"
    }
   ],
   "source": [
    "res = hdfs.read('/test/data.pkl')\n",
    "pickle.loads(res.content)"
   ]
  },
  {
   "cell_type": "markdown",
   "id": "7d557158-a3ec-4979-8ce7-12e8fefe5d23",
   "metadata": {},
   "source": [
    "### make directory"
   ]
  },
  {
   "cell_type": "code",
   "execution_count": 10,
   "id": "bedc9919-3a84-4642-8000-eb9d4f0dc7f3",
   "metadata": {},
   "outputs": [
    {
     "data": {
      "text/plain": [
       "True"
      ]
     },
     "execution_count": 10,
     "metadata": {},
     "output_type": "execute_result"
    }
   ],
   "source": [
    "hdfs.download('/test/data.pkl', 'downloaded.pkl')"
   ]
  },
  {
   "cell_type": "code",
   "execution_count": 11,
   "id": "3a6664c1-11c7-46ef-b34f-6ede5423613c",
   "metadata": {},
   "outputs": [
    {
     "name": "stdout",
     "output_type": "stream",
     "text": [
      "{'a': [1, 2.0, 3, (4+6j)], 'b': ('string', 'Unicode string'), 'c': None}\n"
     ]
    }
   ],
   "source": [
    "with open('downloaded.pkl', 'rb') as f:\n",
    "    print(pickle.load(f))"
   ]
  },
  {
   "cell_type": "markdown",
   "id": "05d07d59-f6d7-4de9-b077-730ec83d1470",
   "metadata": {},
   "source": [
    "### delete data"
   ]
  },
  {
   "cell_type": "code",
   "execution_count": 12,
   "id": "a1a36f96-2d12-49ce-a2ac-d9af7fbbf29d",
   "metadata": {},
   "outputs": [
    {
     "data": {
      "text/plain": [
       "['data.pkl', 'test.txt']"
      ]
     },
     "execution_count": 12,
     "metadata": {},
     "output_type": "execute_result"
    }
   ],
   "source": [
    "hdfs.ls('/test')"
   ]
  },
  {
   "cell_type": "code",
   "execution_count": 13,
   "id": "595a6a34-0af0-4341-9393-137e2302834d",
   "metadata": {},
   "outputs": [
    {
     "data": {
      "text/plain": [
       "{'boolean': True}"
      ]
     },
     "execution_count": 13,
     "metadata": {},
     "output_type": "execute_result"
    }
   ],
   "source": [
    "hdfs.delete('/test/data.pkl')"
   ]
  },
  {
   "cell_type": "code",
   "execution_count": 14,
   "id": "749c707b-e981-4711-947f-1b2e7653b4c1",
   "metadata": {},
   "outputs": [
    {
     "data": {
      "text/plain": [
       "['test.txt']"
      ]
     },
     "execution_count": 14,
     "metadata": {},
     "output_type": "execute_result"
    }
   ],
   "source": [
    "hdfs.ls('/test')"
   ]
  },
  {
   "cell_type": "code",
   "execution_count": 15,
   "id": "593474a8-4c9d-4842-a0ff-09d9e9b0e399",
   "metadata": {},
   "outputs": [
    {
     "data": {
      "text/plain": [
       "{'boolean': True}"
      ]
     },
     "execution_count": 15,
     "metadata": {},
     "output_type": "execute_result"
    }
   ],
   "source": [
    "hdfs.delete('/test', isdir=True)"
   ]
  },
  {
   "cell_type": "code",
   "execution_count": 16,
   "id": "e6f016ba-5d13-41b9-ba92-018c6d874d3e",
   "metadata": {},
   "outputs": [
    {
     "data": {
      "text/plain": [
       "['hbase', 'models']"
      ]
     },
     "execution_count": 16,
     "metadata": {},
     "output_type": "execute_result"
    }
   ],
   "source": [
    "hdfs.ls('/')"
   ]
  },
  {
   "cell_type": "code",
   "execution_count": null,
   "id": "d21bf604-6f3b-49d6-b2a8-8d41fcbc582c",
   "metadata": {},
   "outputs": [],
   "source": []
  },
  {
   "cell_type": "code",
   "execution_count": null,
   "id": "e3ff80f6-dd84-43b5-a3f5-5f8942129171",
   "metadata": {},
   "outputs": [],
   "source": []
  },
  {
   "cell_type": "code",
   "execution_count": null,
   "id": "af662e7e-dbea-4bb7-a468-c15f7299425d",
   "metadata": {},
   "outputs": [],
   "source": []
  },
  {
   "cell_type": "markdown",
   "id": "3667cef6-2143-4a0a-9591-b24aa5af4384",
   "metadata": {},
   "source": [
    "## HBase"
   ]
  },
  {
   "cell_type": "code",
   "execution_count": null,
   "id": "bd218dd9-c7a6-44ca-bcf3-9818cbdfe1b1",
   "metadata": {},
   "outputs": [],
   "source": [
    "!pip install happybase"
   ]
  },
  {
   "cell_type": "code",
   "execution_count": 50,
   "id": "17545030-0ee1-4c6d-b1f1-7e04aa7d1218",
   "metadata": {},
   "outputs": [],
   "source": [
    "import happybase\n",
    "\n",
    "connection = happybase.Connection('localhost', port=9090)\n",
    "connection.open()"
   ]
  },
  {
   "cell_type": "markdown",
   "id": "537b9e48-378f-4282-af7b-fd79cf7c919a",
   "metadata": {},
   "source": [
    "### create table"
   ]
  },
  {
   "cell_type": "code",
   "execution_count": 56,
   "id": "6830388b-1981-49cf-aa06-d3bbc12491a5",
   "metadata": {},
   "outputs": [],
   "source": [
    "table_name = b'my_table'\n",
    "if table_name not in connection.tables():\n",
    "    connection.create_table(table_name, {'cf': dict()})"
   ]
  },
  {
   "cell_type": "markdown",
   "id": "94e501e9-199a-46b2-926c-f7b3581bd308",
   "metadata": {},
   "source": [
    "### put data"
   ]
  },
  {
   "cell_type": "code",
   "execution_count": 59,
   "id": "0a52402d-92af-47d2-896b-9817cead0b55",
   "metadata": {},
   "outputs": [],
   "source": [
    "table = connection.table(table_name)\n",
    "\n",
    "table.put('row-key1', {'cf:col1': b'value1', 'cf:col2': b'value1'})\n",
    "table.put('row-key2', {'cf:col1': b'value2', 'cf:col2': b'value2'})\n",
    "table.put('row-key3', {'cf:col1': b'value3', 'cf:col2': b'value3'})\n",
    "table.put('row-key4', {'cf:col1': b'value4', 'cf:col2': b'value4'})"
   ]
  },
  {
   "cell_type": "markdown",
   "id": "bfb88c56-f089-4403-810c-77a561a46f7f",
   "metadata": {},
   "source": [
    "### read data"
   ]
  },
  {
   "cell_type": "code",
   "execution_count": 60,
   "id": "8326a0fa-298b-410b-b3dd-377dd4f05a67",
   "metadata": {},
   "outputs": [
    {
     "data": {
      "text/plain": [
       "{b'cf:col1': b'value1', b'cf:col2': b'value1'}"
      ]
     },
     "execution_count": 60,
     "metadata": {},
     "output_type": "execute_result"
    }
   ],
   "source": [
    "table.row('row-key1')"
   ]
  },
  {
   "cell_type": "markdown",
   "id": "925bea74-ae1c-4bcd-b058-ad1194266f56",
   "metadata": {},
   "source": [
    "### scan data"
   ]
  },
  {
   "cell_type": "code",
   "execution_count": 64,
   "id": "ccfa884b-99a0-451d-9ef1-bdf8cfd1e9e4",
   "metadata": {},
   "outputs": [
    {
     "name": "stdout",
     "output_type": "stream",
     "text": [
      "b'row-key1' {b'cf:col2': b'value1'}\n",
      "b'row-key2' {b'cf:col2': b'value2'}\n"
     ]
    }
   ],
   "source": [
    "for key, data in table.scan(row_start='row-key1', row_stop='row-key3', columns=['cf:col2']):\n",
    "    print(key, data) "
   ]
  },
  {
   "cell_type": "markdown",
   "id": "7e46a495-ddb8-4357-83b6-bbe803e3af97",
   "metadata": {},
   "source": [
    "### delete data"
   ]
  },
  {
   "cell_type": "code",
   "execution_count": 65,
   "id": "7d3c6a85-c23c-455c-bb12-c6ab78669cf6",
   "metadata": {},
   "outputs": [],
   "source": [
    "table.delete(b'row_key1')"
   ]
  },
  {
   "cell_type": "markdown",
   "id": "70410990-97d1-4d6a-910c-d76c1dc43a95",
   "metadata": {},
   "source": [
    "### delete table"
   ]
  },
  {
   "cell_type": "code",
   "execution_count": null,
   "id": "d62486f7-29e6-42f5-8c28-2a775bb812b6",
   "metadata": {},
   "outputs": [],
   "source": [
    "# disable first -> delete\n",
    "connection.disable_table(table_name)\n",
    "connection.delete_table(table_name)\n",
    "connection.tables()"
   ]
  },
  {
   "cell_type": "code",
   "execution_count": null,
   "id": "cc90ede9-6987-4f79-ba6b-1920f63ee552",
   "metadata": {},
   "outputs": [],
   "source": []
  },
  {
   "cell_type": "code",
   "execution_count": 46,
   "id": "411d160d-a622-45de-9270-ce12f1341432",
   "metadata": {},
   "outputs": [],
   "source": []
  },
  {
   "cell_type": "code",
   "execution_count": null,
   "id": "6466410e-9f5d-43d7-86eb-d27e0863d9ce",
   "metadata": {},
   "outputs": [],
   "source": []
  },
  {
   "cell_type": "code",
   "execution_count": null,
   "id": "579c6ff1-f116-4ff3-b042-9da6446e3e68",
   "metadata": {},
   "outputs": [],
   "source": []
  }
 ],
 "metadata": {
  "kernelspec": {
   "display_name": "Python 3 (ipykernel)",
   "language": "python",
   "name": "python3"
  },
  "language_info": {
   "codemirror_mode": {
    "name": "ipython",
    "version": 3
   },
   "file_extension": ".py",
   "mimetype": "text/x-python",
   "name": "python",
   "nbconvert_exporter": "python",
   "pygments_lexer": "ipython3",
   "version": "3.9.16"
  }
 },
 "nbformat": 4,
 "nbformat_minor": 5
}
