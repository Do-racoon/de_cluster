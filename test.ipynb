{
 "cells": [
  {
   "cell_type": "code",
   "execution_count": 14,
   "id": "e4ea72aa-969e-42b8-9e64-d705bb6534bd",
   "metadata": {},
   "outputs": [
    {
     "name": "stdout",
     "output_type": "stream",
     "text": [
      "Requirement already satisfied: happybase in /opt/homebrew/Caskroom/miniconda/base/envs/yeardream/lib/python3.9/site-packages (1.2.0)\n",
      "Requirement already satisfied: six in /opt/homebrew/Caskroom/miniconda/base/envs/yeardream/lib/python3.9/site-packages (from happybase) (1.16.0)\n",
      "Requirement already satisfied: thriftpy2>=0.4 in /opt/homebrew/Caskroom/miniconda/base/envs/yeardream/lib/python3.9/site-packages (from happybase) (0.4.16)\n",
      "Requirement already satisfied: ply<4.0,>=3.4 in /opt/homebrew/Caskroom/miniconda/base/envs/yeardream/lib/python3.9/site-packages (from thriftpy2>=0.4->happybase) (3.11)\n"
     ]
    }
   ],
   "source": [
    "!pip install happybase"
   ]
  },
  {
   "cell_type": "code",
   "execution_count": 98,
   "id": "17545030-0ee1-4c6d-b1f1-7e04aa7d1218",
   "metadata": {},
   "outputs": [],
   "source": [
    "import happybase\n",
    "import os\n",
    "import csv\n",
    "import pandas as pd"
   ]
  },
  {
   "cell_type": "code",
   "execution_count": 99,
   "id": "e04c0801-99a3-47f2-8679-98f9eae3a216",
   "metadata": {},
   "outputs": [
    {
     "ename": "TTransportException",
     "evalue": "TTransportException(type=1, message=\"Could not connect to ('localhost', 9090)\")",
     "output_type": "error",
     "traceback": [
      "\u001b[0;31m---------------------------------------------------------------------------\u001b[0m",
      "\u001b[0;31mConnectionRefusedError\u001b[0m                    Traceback (most recent call last)",
      "File \u001b[0;32m/opt/homebrew/Caskroom/miniconda/base/envs/yeardream/lib/python3.9/site-packages/thriftpy2/transport/socket.py:98\u001b[0m, in \u001b[0;36mTSocket.open\u001b[0;34m(self)\u001b[0m\n\u001b[1;32m     96\u001b[0m     \u001b[39mself\u001b[39m\u001b[39m.\u001b[39msock\u001b[39m.\u001b[39msettimeout(\u001b[39mself\u001b[39m\u001b[39m.\u001b[39mconnect_timeout)\n\u001b[0;32m---> 98\u001b[0m \u001b[39mself\u001b[39;49m\u001b[39m.\u001b[39;49msock\u001b[39m.\u001b[39;49mconnect(addr)\n\u001b[1;32m    100\u001b[0m \u001b[39mif\u001b[39;00m \u001b[39mself\u001b[39m\u001b[39m.\u001b[39msocket_timeout:\n",
      "\u001b[0;31mConnectionRefusedError\u001b[0m: [Errno 61] Connection refused",
      "\nDuring handling of the above exception, another exception occurred:\n",
      "\u001b[0;31mTTransportException\u001b[0m                       Traceback (most recent call last)",
      "Cell \u001b[0;32mIn[99], line 1\u001b[0m\n\u001b[0;32m----> 1\u001b[0m connection \u001b[39m=\u001b[39m happybase\u001b[39m.\u001b[39;49mConnection(\u001b[39m'\u001b[39;49m\u001b[39mlocalhost\u001b[39;49m\u001b[39m'\u001b[39;49m, port\u001b[39m=\u001b[39;49m\u001b[39m9090\u001b[39;49m)\n\u001b[1;32m      2\u001b[0m connection\u001b[39m.\u001b[39mopen()\n",
      "File \u001b[0;32m/opt/homebrew/Caskroom/miniconda/base/envs/yeardream/lib/python3.9/site-packages/happybase/connection.py:148\u001b[0m, in \u001b[0;36mConnection.__init__\u001b[0;34m(self, host, port, timeout, autoconnect, table_prefix, table_prefix_separator, compat, transport, protocol)\u001b[0m\n\u001b[1;32m    145\u001b[0m \u001b[39mself\u001b[39m\u001b[39m.\u001b[39m_refresh_thrift_client()\n\u001b[1;32m    147\u001b[0m \u001b[39mif\u001b[39;00m autoconnect:\n\u001b[0;32m--> 148\u001b[0m     \u001b[39mself\u001b[39;49m\u001b[39m.\u001b[39;49mopen()\n\u001b[1;32m    150\u001b[0m \u001b[39mself\u001b[39m\u001b[39m.\u001b[39m_initialized \u001b[39m=\u001b[39m \u001b[39mTrue\u001b[39;00m\n",
      "File \u001b[0;32m/opt/homebrew/Caskroom/miniconda/base/envs/yeardream/lib/python3.9/site-packages/happybase/connection.py:176\u001b[0m, in \u001b[0;36mConnection.open\u001b[0;34m(self)\u001b[0m\n\u001b[1;32m    173\u001b[0m     \u001b[39mreturn\u001b[39;00m\n\u001b[1;32m    175\u001b[0m logger\u001b[39m.\u001b[39mdebug(\u001b[39m\"\u001b[39m\u001b[39mOpening Thrift transport to \u001b[39m\u001b[39m%s\u001b[39;00m\u001b[39m:\u001b[39m\u001b[39m%d\u001b[39;00m\u001b[39m\"\u001b[39m, \u001b[39mself\u001b[39m\u001b[39m.\u001b[39mhost, \u001b[39mself\u001b[39m\u001b[39m.\u001b[39mport)\n\u001b[0;32m--> 176\u001b[0m \u001b[39mself\u001b[39;49m\u001b[39m.\u001b[39;49mtransport\u001b[39m.\u001b[39;49mopen()\n",
      "File \u001b[0;32m/opt/homebrew/Caskroom/miniconda/base/envs/yeardream/lib/python3.9/site-packages/thriftpy2/transport/buffered/cybuffered.pyx:34\u001b[0m, in \u001b[0;36mthriftpy2.transport.buffered.cybuffered.TCyBufferedTransport.open\u001b[0;34m()\u001b[0m\n",
      "File \u001b[0;32m/opt/homebrew/Caskroom/miniconda/base/envs/yeardream/lib/python3.9/site-packages/thriftpy2/transport/socket.py:105\u001b[0m, in \u001b[0;36mTSocket.open\u001b[0;34m(self)\u001b[0m\n\u001b[1;32m    103\u001b[0m \u001b[39mexcept\u001b[39;00m (socket\u001b[39m.\u001b[39merror, \u001b[39mOSError\u001b[39;00m):\n\u001b[1;32m    104\u001b[0m     \u001b[39mself\u001b[39m\u001b[39m.\u001b[39mclose()\n\u001b[0;32m--> 105\u001b[0m     \u001b[39mraise\u001b[39;00m TTransportException(\n\u001b[1;32m    106\u001b[0m         \u001b[39mtype\u001b[39m\u001b[39m=\u001b[39mTTransportException\u001b[39m.\u001b[39mNOT_OPEN,\n\u001b[1;32m    107\u001b[0m         message\u001b[39m=\u001b[39m\u001b[39m\"\u001b[39m\u001b[39mCould not connect to \u001b[39m\u001b[39m%s\u001b[39;00m\u001b[39m\"\u001b[39m \u001b[39m%\u001b[39m \u001b[39mstr\u001b[39m(addr))\n",
      "\u001b[0;31mTTransportException\u001b[0m: TTransportException(type=1, message=\"Could not connect to ('localhost', 9090)\")"
     ]
    }
   ],
   "source": [
    "connection = happybase.Connection('localhost', port=9090)\n",
    "connection.open()"
   ]
  },
  {
   "cell_type": "code",
   "execution_count": 91,
   "id": "216b72ef-2ebb-4244-8f14-0dd087a101ac",
   "metadata": {},
   "outputs": [
    {
     "data": {
      "text/plain": [
       "[b'test_table2']"
      ]
     },
     "execution_count": 91,
     "metadata": {},
     "output_type": "execute_result"
    }
   ],
   "source": [
    "connection.tables()"
   ]
  },
  {
   "cell_type": "code",
   "execution_count": 83,
   "id": "f40c9778",
   "metadata": {},
   "outputs": [
    {
     "ename": "KeyboardInterrupt",
     "evalue": "",
     "output_type": "error",
     "traceback": [
      "\u001b[0;31m---------------------------------------------------------------------------\u001b[0m",
      "\u001b[0;31mKeyboardInterrupt\u001b[0m                         Traceback (most recent call last)",
      "Cell \u001b[0;32mIn[83], line 1\u001b[0m\n\u001b[0;32m----> 1\u001b[0m connection\u001b[39m.\u001b[39;49mdisable_table(\u001b[39m'\u001b[39;49m\u001b[39mtest_table1\u001b[39;49m\u001b[39m'\u001b[39;49m)\n\u001b[1;32m      2\u001b[0m \u001b[39mprint\u001b[39m(\u001b[39m1\u001b[39m)\n\u001b[1;32m      3\u001b[0m connection\u001b[39m.\u001b[39mdelete_table(\u001b[39m'\u001b[39m\u001b[39mtest_table1\u001b[39m\u001b[39m'\u001b[39m)\n",
      "File \u001b[0;32m/opt/homebrew/Caskroom/miniconda/base/envs/yeardream/lib/python3.9/site-packages/happybase/connection.py:344\u001b[0m, in \u001b[0;36mConnection.disable_table\u001b[0;34m(self, name)\u001b[0m\n\u001b[1;32m    339\u001b[0m \u001b[39m\"\"\"Disable the specified table.\u001b[39;00m\n\u001b[1;32m    340\u001b[0m \n\u001b[1;32m    341\u001b[0m \u001b[39m:param str name: The table name\u001b[39;00m\n\u001b[1;32m    342\u001b[0m \u001b[39m\"\"\"\u001b[39;00m\n\u001b[1;32m    343\u001b[0m name \u001b[39m=\u001b[39m \u001b[39mself\u001b[39m\u001b[39m.\u001b[39m_table_name(name)\n\u001b[0;32m--> 344\u001b[0m \u001b[39mself\u001b[39;49m\u001b[39m.\u001b[39;49mclient\u001b[39m.\u001b[39;49mdisableTable(name)\n",
      "File \u001b[0;32m/opt/homebrew/Caskroom/miniconda/base/envs/yeardream/lib/python3.9/site-packages/thriftpy2/thrift.py:219\u001b[0m, in \u001b[0;36mTClient._req\u001b[0;34m(self, _api, *args, **kwargs)\u001b[0m\n\u001b[1;32m    217\u001b[0m \u001b[39m# wait result only if non-oneway\u001b[39;00m\n\u001b[1;32m    218\u001b[0m \u001b[39mif\u001b[39;00m \u001b[39mnot\u001b[39;00m \u001b[39mgetattr\u001b[39m(result_cls, \u001b[39m\"\u001b[39m\u001b[39moneway\u001b[39m\u001b[39m\"\u001b[39m):\n\u001b[0;32m--> 219\u001b[0m     \u001b[39mreturn\u001b[39;00m \u001b[39mself\u001b[39;49m\u001b[39m.\u001b[39;49m_recv(_api)\n",
      "File \u001b[0;32m/opt/homebrew/Caskroom/miniconda/base/envs/yeardream/lib/python3.9/site-packages/thriftpy2/thrift.py:231\u001b[0m, in \u001b[0;36mTClient._recv\u001b[0;34m(self, _api)\u001b[0m\n\u001b[1;32m    230\u001b[0m \u001b[39mdef\u001b[39;00m \u001b[39m_recv\u001b[39m(\u001b[39mself\u001b[39m, _api):\n\u001b[0;32m--> 231\u001b[0m     fname, mtype, rseqid \u001b[39m=\u001b[39m \u001b[39mself\u001b[39;49m\u001b[39m.\u001b[39;49m_iprot\u001b[39m.\u001b[39;49mread_message_begin()\n\u001b[1;32m    232\u001b[0m     \u001b[39mif\u001b[39;00m mtype \u001b[39m==\u001b[39m TMessageType\u001b[39m.\u001b[39mEXCEPTION:\n\u001b[1;32m    233\u001b[0m         x \u001b[39m=\u001b[39m TApplicationException()\n",
      "File \u001b[0;32m/opt/homebrew/Caskroom/miniconda/base/envs/yeardream/lib/python3.9/site-packages/thriftpy2/protocol/cybin/cybin.pyx:463\u001b[0m, in \u001b[0;36mcybin.TCyBinaryProtocol.read_message_begin\u001b[0;34m()\u001b[0m\n",
      "File \u001b[0;32m/opt/homebrew/Caskroom/miniconda/base/envs/yeardream/lib/python3.9/site-packages/thriftpy2/protocol/cybin/cybin.pyx:68\u001b[0m, in \u001b[0;36mcybin.read_i32\u001b[0;34m()\u001b[0m\n",
      "File \u001b[0;32m/opt/homebrew/Caskroom/miniconda/base/envs/yeardream/lib/python3.9/site-packages/thriftpy2/transport/buffered/cybuffered.pyx:65\u001b[0m, in \u001b[0;36mthriftpy2.transport.buffered.cybuffered.TCyBufferedTransport.c_read\u001b[0;34m()\u001b[0m\n",
      "File \u001b[0;32m/opt/homebrew/Caskroom/miniconda/base/envs/yeardream/lib/python3.9/site-packages/thriftpy2/transport/buffered/cybuffered.pyx:69\u001b[0m, in \u001b[0;36mthriftpy2.transport.buffered.cybuffered.TCyBufferedTransport.read_trans\u001b[0;34m()\u001b[0m\n",
      "File \u001b[0;32m/opt/homebrew/Caskroom/miniconda/base/envs/yeardream/lib/python3.9/site-packages/thriftpy2/transport/cybase.pyx:61\u001b[0m, in \u001b[0;36mthriftpy2.transport.cybase.TCyBuffer.read_trans\u001b[0;34m()\u001b[0m\n",
      "File \u001b[0;32m/opt/homebrew/Caskroom/miniconda/base/envs/yeardream/lib/python3.9/site-packages/thriftpy2/transport/socket.py:112\u001b[0m, in \u001b[0;36mTSocket.read\u001b[0;34m(self, sz)\u001b[0m\n\u001b[1;32m    110\u001b[0m \u001b[39mwhile\u001b[39;00m \u001b[39mTrue\u001b[39;00m:\n\u001b[1;32m    111\u001b[0m     \u001b[39mtry\u001b[39;00m:\n\u001b[0;32m--> 112\u001b[0m         buff \u001b[39m=\u001b[39m \u001b[39mself\u001b[39;49m\u001b[39m.\u001b[39;49msock\u001b[39m.\u001b[39;49mrecv(sz)\n\u001b[1;32m    113\u001b[0m     \u001b[39mexcept\u001b[39;00m socket\u001b[39m.\u001b[39merror \u001b[39mas\u001b[39;00m e:\n\u001b[1;32m    114\u001b[0m         \u001b[39mif\u001b[39;00m e\u001b[39m.\u001b[39merrno \u001b[39m==\u001b[39m errno\u001b[39m.\u001b[39mEINTR:\n",
      "\u001b[0;31mKeyboardInterrupt\u001b[0m: "
     ]
    }
   ],
   "source": [
    "connection.disable_table('test_table1')\n",
    "print(1)\n",
    "connection.delete_table('test_table1')"
   ]
  },
  {
   "cell_type": "code",
   "execution_count": 87,
   "id": "f9116171-ba1e-4b8e-9049-2adf4fbb42cf",
   "metadata": {},
   "outputs": [],
   "source": [
    "# 'my_table'이라는 테이블을 생성\n",
    "connection.create_table(\n",
    "    'test_table2',\n",
    "    {'cf': dict(),  # use defaults\n",
    "    }\n",
    ")\n"
   ]
  },
  {
   "cell_type": "code",
   "execution_count": 95,
   "id": "7ea50755",
   "metadata": {},
   "outputs": [
    {
     "name": "stdout",
     "output_type": "stream",
     "text": [
      "0\n"
     ]
    },
    {
     "ename": "TTransportException",
     "evalue": "TTransportException(type=4, message='TSocket read 0 bytes')",
     "output_type": "error",
     "traceback": [
      "\u001b[0;31m---------------------------------------------------------------------------\u001b[0m",
      "\u001b[0;31mTTransportException\u001b[0m                       Traceback (most recent call last)",
      "Cell \u001b[0;32mIn[95], line 6\u001b[0m\n\u001b[1;32m      3\u001b[0m data_folder \u001b[39m=\u001b[39m \u001b[39m'\u001b[39m\u001b[39m./airflow/data\u001b[39m\u001b[39m'\u001b[39m\n\u001b[1;32m      5\u001b[0m \u001b[39mprint\u001b[39m(\u001b[39m0\u001b[39m)\n\u001b[0;32m----> 6\u001b[0m \u001b[39mif\u001b[39;00m \u001b[39mbytes\u001b[39m(table_name, encoding\u001b[39m=\u001b[39m\u001b[39m'\u001b[39m\u001b[39mutf-8\u001b[39m\u001b[39m'\u001b[39m) \u001b[39mnot\u001b[39;00m \u001b[39min\u001b[39;00m connection\u001b[39m.\u001b[39;49mtables():\n\u001b[1;32m      7\u001b[0m     connection\u001b[39m.\u001b[39mcreate_table(\n\u001b[1;32m      8\u001b[0m         \u001b[39m'\u001b[39m\u001b[39mtest_table2\u001b[39m\u001b[39m'\u001b[39m,\n\u001b[1;32m      9\u001b[0m         {\u001b[39m'\u001b[39m\u001b[39mcf\u001b[39m\u001b[39m'\u001b[39m: \u001b[39mdict\u001b[39m(),  \u001b[39m# use defaults\u001b[39;00m\n\u001b[1;32m     10\u001b[0m         }\n\u001b[1;32m     11\u001b[0m     ) \n\u001b[1;32m     12\u001b[0m \u001b[39mfor\u001b[39;00m file_name \u001b[39min\u001b[39;00m os\u001b[39m.\u001b[39mlistdir(data_folder):\n",
      "File \u001b[0;32m/opt/homebrew/Caskroom/miniconda/base/envs/yeardream/lib/python3.9/site-packages/happybase/connection.py:242\u001b[0m, in \u001b[0;36mConnection.tables\u001b[0;34m(self)\u001b[0m\n\u001b[1;32m    233\u001b[0m \u001b[39mdef\u001b[39;00m \u001b[39mtables\u001b[39m(\u001b[39mself\u001b[39m):\n\u001b[1;32m    234\u001b[0m     \u001b[39m\"\"\"Return a list of table names available in this HBase instance.\u001b[39;00m\n\u001b[1;32m    235\u001b[0m \n\u001b[1;32m    236\u001b[0m \u001b[39m    If a `table_prefix` was set for this :py:class:`Connection`, only\u001b[39;00m\n\u001b[0;32m   (...)\u001b[0m\n\u001b[1;32m    240\u001b[0m \u001b[39m    :rtype: List of strings\u001b[39;00m\n\u001b[1;32m    241\u001b[0m \u001b[39m    \"\"\"\u001b[39;00m\n\u001b[0;32m--> 242\u001b[0m     names \u001b[39m=\u001b[39m \u001b[39mself\u001b[39;49m\u001b[39m.\u001b[39;49mclient\u001b[39m.\u001b[39;49mgetTableNames()\n\u001b[1;32m    244\u001b[0m     \u001b[39m# Filter using prefix, and strip prefix from names\u001b[39;00m\n\u001b[1;32m    245\u001b[0m     \u001b[39mif\u001b[39;00m \u001b[39mself\u001b[39m\u001b[39m.\u001b[39mtable_prefix \u001b[39mis\u001b[39;00m \u001b[39mnot\u001b[39;00m \u001b[39mNone\u001b[39;00m:\n",
      "File \u001b[0;32m/opt/homebrew/Caskroom/miniconda/base/envs/yeardream/lib/python3.9/site-packages/thriftpy2/thrift.py:219\u001b[0m, in \u001b[0;36mTClient._req\u001b[0;34m(self, _api, *args, **kwargs)\u001b[0m\n\u001b[1;32m    217\u001b[0m \u001b[39m# wait result only if non-oneway\u001b[39;00m\n\u001b[1;32m    218\u001b[0m \u001b[39mif\u001b[39;00m \u001b[39mnot\u001b[39;00m \u001b[39mgetattr\u001b[39m(result_cls, \u001b[39m\"\u001b[39m\u001b[39moneway\u001b[39m\u001b[39m\"\u001b[39m):\n\u001b[0;32m--> 219\u001b[0m     \u001b[39mreturn\u001b[39;00m \u001b[39mself\u001b[39;49m\u001b[39m.\u001b[39;49m_recv(_api)\n",
      "File \u001b[0;32m/opt/homebrew/Caskroom/miniconda/base/envs/yeardream/lib/python3.9/site-packages/thriftpy2/thrift.py:231\u001b[0m, in \u001b[0;36mTClient._recv\u001b[0;34m(self, _api)\u001b[0m\n\u001b[1;32m    230\u001b[0m \u001b[39mdef\u001b[39;00m \u001b[39m_recv\u001b[39m(\u001b[39mself\u001b[39m, _api):\n\u001b[0;32m--> 231\u001b[0m     fname, mtype, rseqid \u001b[39m=\u001b[39m \u001b[39mself\u001b[39;49m\u001b[39m.\u001b[39;49m_iprot\u001b[39m.\u001b[39;49mread_message_begin()\n\u001b[1;32m    232\u001b[0m     \u001b[39mif\u001b[39;00m mtype \u001b[39m==\u001b[39m TMessageType\u001b[39m.\u001b[39mEXCEPTION:\n\u001b[1;32m    233\u001b[0m         x \u001b[39m=\u001b[39m TApplicationException()\n",
      "File \u001b[0;32m/opt/homebrew/Caskroom/miniconda/base/envs/yeardream/lib/python3.9/site-packages/thriftpy2/protocol/cybin/cybin.pyx:463\u001b[0m, in \u001b[0;36mcybin.TCyBinaryProtocol.read_message_begin\u001b[0;34m()\u001b[0m\n",
      "File \u001b[0;32m/opt/homebrew/Caskroom/miniconda/base/envs/yeardream/lib/python3.9/site-packages/thriftpy2/protocol/cybin/cybin.pyx:68\u001b[0m, in \u001b[0;36mcybin.read_i32\u001b[0;34m()\u001b[0m\n",
      "File \u001b[0;32m/opt/homebrew/Caskroom/miniconda/base/envs/yeardream/lib/python3.9/site-packages/thriftpy2/transport/buffered/cybuffered.pyx:65\u001b[0m, in \u001b[0;36mthriftpy2.transport.buffered.cybuffered.TCyBufferedTransport.c_read\u001b[0;34m()\u001b[0m\n",
      "File \u001b[0;32m/opt/homebrew/Caskroom/miniconda/base/envs/yeardream/lib/python3.9/site-packages/thriftpy2/transport/buffered/cybuffered.pyx:69\u001b[0m, in \u001b[0;36mthriftpy2.transport.buffered.cybuffered.TCyBufferedTransport.read_trans\u001b[0;34m()\u001b[0m\n",
      "File \u001b[0;32m/opt/homebrew/Caskroom/miniconda/base/envs/yeardream/lib/python3.9/site-packages/thriftpy2/transport/cybase.pyx:61\u001b[0m, in \u001b[0;36mthriftpy2.transport.cybase.TCyBuffer.read_trans\u001b[0;34m()\u001b[0m\n",
      "File \u001b[0;32m/opt/homebrew/Caskroom/miniconda/base/envs/yeardream/lib/python3.9/site-packages/thriftpy2/transport/socket.py:131\u001b[0m, in \u001b[0;36mTSocket.read\u001b[0;34m(self, sz)\u001b[0m\n\u001b[1;32m    128\u001b[0m         \u001b[39mbreak\u001b[39;00m\n\u001b[1;32m    130\u001b[0m \u001b[39mif\u001b[39;00m \u001b[39mlen\u001b[39m(buff) \u001b[39m==\u001b[39m \u001b[39m0\u001b[39m:\n\u001b[0;32m--> 131\u001b[0m     \u001b[39mraise\u001b[39;00m TTransportException(\u001b[39mtype\u001b[39m\u001b[39m=\u001b[39mTTransportException\u001b[39m.\u001b[39mEND_OF_FILE,\n\u001b[1;32m    132\u001b[0m                               message\u001b[39m=\u001b[39m\u001b[39m'\u001b[39m\u001b[39mTSocket read 0 bytes\u001b[39m\u001b[39m'\u001b[39m)\n\u001b[1;32m    133\u001b[0m \u001b[39mreturn\u001b[39;00m buff\n",
      "\u001b[0;31mTTransportException\u001b[0m: TTransportException(type=4, message='TSocket read 0 bytes')"
     ]
    }
   ],
   "source": [
    "table_name = 'test_table2'\n",
    "\n",
    "data_folder = './airflow/data'\n",
    "\n",
    "print(0)\n",
    "if bytes(table_name, encoding='utf-8') not in connection.tables():\n",
    "    connection.create_table(\n",
    "        'test_table2',\n",
    "        {'cf': dict(),  # use defaults\n",
    "        }\n",
    "    ) \n",
    "for file_name in os.listdir(data_folder):\n",
    "    print(1)\n",
    "    if file_name.endswith('.csv'):\n",
    "        check = 1\n",
    "        file_path = os.path.join(data_folder,file_name)\n",
    "        with open(file_path,'r', encoding='UTF-8') as file:\n",
    "            data = csv.reader(file)\n",
    "            table = connection.table(table_name)\n",
    "            # put the data in table\n",
    "            row_key = file_name[::-1][4:]\n",
    "            column_family = 'cf'\n",
    "            # for row in data:\n",
    "            #     column =row[4]\n",
    "            #     content = row[5]\n",
    "            #     table.put(row_key,{f'{column_family}:{column}':content})\n",
    "            for row in data:\n",
    "                \n",
    "                #print(file_name, row[4], row[5])\n",
    "                if check == 1:\n",
    "                    column = row[4]\n",
    "                    content = row[5]\n",
    "                    table.put(row_key,{f'{column_family}:{column}':content})\n",
    "                    check = 0\n",
    "            #table.put(row_key,{f'{column_family}:{file_name}':data[0][4]})\n",
    "    "
   ]
  },
  {
   "cell_type": "code",
   "execution_count": 20,
   "id": "411d160d-a622-45de-9270-ce12f1341432",
   "metadata": {},
   "outputs": [],
   "source": [
    "# 'my_table'에 대한 핸들을 얻음\n",
    "table = connection.table('test_table1')"
   ]
  },
  {
   "cell_type": "code",
   "execution_count": 7,
   "id": "45882519-a2d8-4781-aa9c-b43036630b6f",
   "metadata": {},
   "outputs": [],
   "source": [
    "# 테이블에 데이터를 삽입\n",
    "table.put('row-key1', {'cf1:qual1': 'value1', 'cf2:qual2': 'value2'})"
   ]
  },
  {
   "cell_type": "code",
   "execution_count": 8,
   "id": "2f8b31de-5b45-4f88-bfe8-7571bbd0a14b",
   "metadata": {},
   "outputs": [],
   "source": [
    "# 테이블에서 데이터를 조회\n",
    "row = table.row('row-key1')"
   ]
  },
  {
   "cell_type": "code",
   "execution_count": 9,
   "id": "7d44a9d0-1d8f-470f-9181-c7254686b7e7",
   "metadata": {},
   "outputs": [
    {
     "name": "stdout",
     "output_type": "stream",
     "text": [
      "b'value1'\n"
     ]
    }
   ],
   "source": [
    "print(row[b'cf1:qual1'])  # 출력: 'value1'"
   ]
  },
  {
   "cell_type": "code",
   "execution_count": 10,
   "id": "dc949c4c-7227-45bd-909a-e13a4c3f53b5",
   "metadata": {},
   "outputs": [
    {
     "name": "stdout",
     "output_type": "stream",
     "text": [
      "b'row-key1' {b'cf1:qual1': b'value1', b'cf2:qual2': b'value2'}\n"
     ]
    }
   ],
   "source": [
    "# 'cf1' 컬럼 패밀리의 모든 데이터를 스캔\n",
    "for key, data in table.scan('cf1'):\n",
    "    print(key, data)  # key와 data를 출력"
   ]
  },
  {
   "cell_type": "code",
   "execution_count": null,
   "id": "6466410e-9f5d-43d7-86eb-d27e0863d9ce",
   "metadata": {},
   "outputs": [],
   "source": []
  },
  {
   "cell_type": "code",
   "execution_count": 11,
   "id": "69f847a3-832f-49e7-80ef-41f794470be1",
   "metadata": {},
   "outputs": [],
   "source": [
    "test=b'asd4'"
   ]
  },
  {
   "cell_type": "code",
   "execution_count": 12,
   "id": "84394b5a-871e-4668-9df0-1753d5078e80",
   "metadata": {},
   "outputs": [
    {
     "name": "stdout",
     "output_type": "stream",
     "text": [
      "97 115 100 52\n"
     ]
    }
   ],
   "source": [
    "print(*test)"
   ]
  },
  {
   "cell_type": "code",
   "execution_count": null,
   "id": "579c6ff1-f116-4ff3-b042-9da6446e3e68",
   "metadata": {},
   "outputs": [],
   "source": []
  }
 ],
 "metadata": {
  "kernelspec": {
   "display_name": "Python 3 (ipykernel)",
   "language": "python",
   "name": "python3"
  },
  "language_info": {
   "codemirror_mode": {
    "name": "ipython",
    "version": 3
   },
   "file_extension": ".py",
   "mimetype": "text/x-python",
   "name": "python",
   "nbconvert_exporter": "python",
   "pygments_lexer": "ipython3",
   "version": "3.9.16"
  }
 },
 "nbformat": 4,
 "nbformat_minor": 5
}
